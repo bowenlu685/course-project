{
 "cells": [
  {
   "cell_type": "code",
   "execution_count": 1,
   "metadata": {
    "collapsed": true
   },
   "outputs": [],
   "source": [
    "from IPython.core.interactiveshell import InteractiveShell\n",
    "InteractiveShell.ast_node_interactivity = \"all\""
   ]
  },
  {
   "cell_type": "code",
   "execution_count": 2,
   "metadata": {
    "scrolled": true
   },
   "outputs": [
    {
     "data": {
      "text/html": [
       "<div>\n",
       "<style>\n",
       "    .dataframe thead tr:only-child th {\n",
       "        text-align: right;\n",
       "    }\n",
       "\n",
       "    .dataframe thead th {\n",
       "        text-align: left;\n",
       "    }\n",
       "\n",
       "    .dataframe tbody tr th {\n",
       "        vertical-align: top;\n",
       "    }\n",
       "</style>\n",
       "<table border=\"1\" class=\"dataframe\">\n",
       "  <thead>\n",
       "    <tr style=\"text-align: right;\">\n",
       "      <th></th>\n",
       "      <th>Unnamed: 0</th>\n",
       "      <th>company</th>\n",
       "      <th>company_public_response</th>\n",
       "      <th>company_response</th>\n",
       "      <th>complaint_id</th>\n",
       "      <th>narratives</th>\n",
       "      <th>consumer_consent_provided</th>\n",
       "      <th>consumer_disputed</th>\n",
       "      <th>date_received</th>\n",
       "      <th>date_sent_to_company</th>\n",
       "      <th>...</th>\n",
       "      <th>state</th>\n",
       "      <th>sub_issue</th>\n",
       "      <th>sub_product</th>\n",
       "      <th>submitted_via</th>\n",
       "      <th>tags</th>\n",
       "      <th>timely</th>\n",
       "      <th>zip_code</th>\n",
       "      <th>Qtr</th>\n",
       "      <th>product_new</th>\n",
       "      <th>label</th>\n",
       "    </tr>\n",
       "  </thead>\n",
       "  <tbody>\n",
       "    <tr>\n",
       "      <th>0</th>\n",
       "      <td>0</td>\n",
       "      <td>Experian Information Solutions Inc.</td>\n",
       "      <td>Company has responded to the consumer and the ...</td>\n",
       "      <td>Closed with explanation</td>\n",
       "      <td>2788944</td>\n",
       "      <td>There are many mistakes appear in my report wi...</td>\n",
       "      <td>Consent provided</td>\n",
       "      <td>NaN</td>\n",
       "      <td>2018-01-20</td>\n",
       "      <td>2018-01-20</td>\n",
       "      <td>...</td>\n",
       "      <td>MD</td>\n",
       "      <td>Account information incorrect</td>\n",
       "      <td>Credit reporting</td>\n",
       "      <td>Web</td>\n",
       "      <td>NaN</td>\n",
       "      <td>Yes</td>\n",
       "      <td>212XX</td>\n",
       "      <td>2018Q1</td>\n",
       "      <td>Credit reporting, credit repair services, or o...</td>\n",
       "      <td>('Credit reporting, credit repair services, or...</td>\n",
       "    </tr>\n",
       "    <tr>\n",
       "      <th>1</th>\n",
       "      <td>1</td>\n",
       "      <td>TRANSUNION INTERMEDIATE HOLDINGS, INC.</td>\n",
       "      <td>Company has responded to the consumer and the ...</td>\n",
       "      <td>Closed with explanation</td>\n",
       "      <td>2773990</td>\n",
       "      <td>I was pulling my credit to looking into buying...</td>\n",
       "      <td>Consent provided</td>\n",
       "      <td>NaN</td>\n",
       "      <td>2018-01-06</td>\n",
       "      <td>2018-01-06</td>\n",
       "      <td>...</td>\n",
       "      <td>FL</td>\n",
       "      <td>Information belongs to someone else</td>\n",
       "      <td>Credit reporting</td>\n",
       "      <td>Web</td>\n",
       "      <td>NaN</td>\n",
       "      <td>Yes</td>\n",
       "      <td>347XX</td>\n",
       "      <td>2018Q1</td>\n",
       "      <td>Credit reporting, credit repair services, or o...</td>\n",
       "      <td>('Credit reporting, credit repair services, or...</td>\n",
       "    </tr>\n",
       "    <tr>\n",
       "      <th>2</th>\n",
       "      <td>2</td>\n",
       "      <td>Caliber Home Loans, Inc.</td>\n",
       "      <td>NaN</td>\n",
       "      <td>Closed with explanation</td>\n",
       "      <td>2737995</td>\n",
       "      <td>Since XXXX XXXX, I was working with a loan con...</td>\n",
       "      <td>Consent provided</td>\n",
       "      <td>NaN</td>\n",
       "      <td>2017-11-26</td>\n",
       "      <td>2017-11-26</td>\n",
       "      <td>...</td>\n",
       "      <td>MD</td>\n",
       "      <td>NaN</td>\n",
       "      <td>Conventional home mortgage</td>\n",
       "      <td>Web</td>\n",
       "      <td>NaN</td>\n",
       "      <td>Yes</td>\n",
       "      <td>208XX</td>\n",
       "      <td>2017Q4</td>\n",
       "      <td>Mortgage</td>\n",
       "      <td>('Mortgage', 'apply for mortgage')</td>\n",
       "    </tr>\n",
       "    <tr>\n",
       "      <th>3</th>\n",
       "      <td>3</td>\n",
       "      <td>Select Management Resources, LLC</td>\n",
       "      <td>Company believes it acted appropriately as aut...</td>\n",
       "      <td>Closed with non-monetary relief</td>\n",
       "      <td>2674806</td>\n",
       "      <td>On XX/XX/XXXX I went to NTL in Delaware for a ...</td>\n",
       "      <td>Consent provided</td>\n",
       "      <td>NaN</td>\n",
       "      <td>2017-09-15</td>\n",
       "      <td>2017-09-15</td>\n",
       "      <td>...</td>\n",
       "      <td>PA</td>\n",
       "      <td>NaN</td>\n",
       "      <td>Title loan</td>\n",
       "      <td>Web</td>\n",
       "      <td>NaN</td>\n",
       "      <td>Yes</td>\n",
       "      <td>190XX</td>\n",
       "      <td>2017Q3</td>\n",
       "      <td>Loan</td>\n",
       "      <td>('loan', 'payment')</td>\n",
       "    </tr>\n",
       "    <tr>\n",
       "      <th>4</th>\n",
       "      <td>4</td>\n",
       "      <td>TRANSUNION INTERMEDIATE HOLDINGS, INC.</td>\n",
       "      <td>Company has responded to the consumer and the ...</td>\n",
       "      <td>Closed with non-monetary relief</td>\n",
       "      <td>2683460</td>\n",
       "      <td>Hello CFPB, I am sending this complaint to you...</td>\n",
       "      <td>Consent provided</td>\n",
       "      <td>NaN</td>\n",
       "      <td>2017-09-25</td>\n",
       "      <td>2017-09-25</td>\n",
       "      <td>...</td>\n",
       "      <td>MD</td>\n",
       "      <td>Their investigation did not fix an error on yo...</td>\n",
       "      <td>Credit reporting</td>\n",
       "      <td>Web</td>\n",
       "      <td>NaN</td>\n",
       "      <td>Yes</td>\n",
       "      <td>212XX</td>\n",
       "      <td>2017Q3</td>\n",
       "      <td>Credit reporting, credit repair services, or o...</td>\n",
       "      <td>('Credit reporting, credit repair services, or...</td>\n",
       "    </tr>\n",
       "  </tbody>\n",
       "</table>\n",
       "<p>5 rows × 22 columns</p>\n",
       "</div>"
      ],
      "text/plain": [
       "   Unnamed: 0                                 company  \\\n",
       "0           0     Experian Information Solutions Inc.   \n",
       "1           1  TRANSUNION INTERMEDIATE HOLDINGS, INC.   \n",
       "2           2                Caliber Home Loans, Inc.   \n",
       "3           3        Select Management Resources, LLC   \n",
       "4           4  TRANSUNION INTERMEDIATE HOLDINGS, INC.   \n",
       "\n",
       "                             company_public_response  \\\n",
       "0  Company has responded to the consumer and the ...   \n",
       "1  Company has responded to the consumer and the ...   \n",
       "2                                                NaN   \n",
       "3  Company believes it acted appropriately as aut...   \n",
       "4  Company has responded to the consumer and the ...   \n",
       "\n",
       "                  company_response  complaint_id  \\\n",
       "0          Closed with explanation       2788944   \n",
       "1          Closed with explanation       2773990   \n",
       "2          Closed with explanation       2737995   \n",
       "3  Closed with non-monetary relief       2674806   \n",
       "4  Closed with non-monetary relief       2683460   \n",
       "\n",
       "                                          narratives  \\\n",
       "0  There are many mistakes appear in my report wi...   \n",
       "1  I was pulling my credit to looking into buying...   \n",
       "2  Since XXXX XXXX, I was working with a loan con...   \n",
       "3  On XX/XX/XXXX I went to NTL in Delaware for a ...   \n",
       "4  Hello CFPB, I am sending this complaint to you...   \n",
       "\n",
       "  consumer_consent_provided  consumer_disputed date_received  \\\n",
       "0          Consent provided                NaN    2018-01-20   \n",
       "1          Consent provided                NaN    2018-01-06   \n",
       "2          Consent provided                NaN    2017-11-26   \n",
       "3          Consent provided                NaN    2017-09-15   \n",
       "4          Consent provided                NaN    2017-09-25   \n",
       "\n",
       "  date_sent_to_company                        ...                          \\\n",
       "0           2018-01-20                        ...                           \n",
       "1           2018-01-06                        ...                           \n",
       "2           2017-11-26                        ...                           \n",
       "3           2017-09-15                        ...                           \n",
       "4           2017-09-25                        ...                           \n",
       "\n",
       "  state                                          sub_issue  \\\n",
       "0    MD                      Account information incorrect   \n",
       "1    FL                Information belongs to someone else   \n",
       "2    MD                                                NaN   \n",
       "3    PA                                                NaN   \n",
       "4    MD  Their investigation did not fix an error on yo...   \n",
       "\n",
       "                  sub_product submitted_via tags timely zip_code     Qtr  \\\n",
       "0            Credit reporting           Web  NaN    Yes    212XX  2018Q1   \n",
       "1            Credit reporting           Web  NaN    Yes    347XX  2018Q1   \n",
       "2  Conventional home mortgage           Web  NaN    Yes    208XX  2017Q4   \n",
       "3                  Title loan           Web  NaN    Yes    190XX  2017Q3   \n",
       "4            Credit reporting           Web  NaN    Yes    212XX  2017Q3   \n",
       "\n",
       "                                         product_new  \\\n",
       "0  Credit reporting, credit repair services, or o...   \n",
       "1  Credit reporting, credit repair services, or o...   \n",
       "2                                           Mortgage   \n",
       "3                                               Loan   \n",
       "4  Credit reporting, credit repair services, or o...   \n",
       "\n",
       "                                               label  \n",
       "0  ('Credit reporting, credit repair services, or...  \n",
       "1  ('Credit reporting, credit repair services, or...  \n",
       "2                 ('Mortgage', 'apply for mortgage')  \n",
       "3                                ('loan', 'payment')  \n",
       "4  ('Credit reporting, credit repair services, or...  \n",
       "\n",
       "[5 rows x 22 columns]"
      ]
     },
     "execution_count": 2,
     "metadata": {},
     "output_type": "execute_result"
    }
   ],
   "source": [
    "# import the dataset and prepare the text and labels\n",
    "import pandas as pd\n",
    "df = pd.read_csv(\"version2.csv\")\n",
    "df.head()\n",
    "\n",
    "texts = df.narratives.tolist()\n",
    "target = df.label.tolist()"
   ]
  },
  {
   "cell_type": "markdown",
   "metadata": {},
   "source": [
    "### 1. Text for tf-idf: tokenized only"
   ]
  },
  {
   "cell_type": "code",
   "execution_count": 3,
   "metadata": {},
   "outputs": [
    {
     "data": {
      "text/plain": [
       "['there are many mistakes appear in my report without my understanding .',\n",
       " 'i was pulling my credit to looking into buying a home this year and i seen that there was quite a few unauthorized accounts on my trans union , xxxx , xxxx reports . i have not access my credit file since xxxx or xxxx and it seem as if someone use my personal information to access utilities and cable bills . i do not recognize these accounts that are listed on my credit file xxxx xxxx xxxx # xxxx , xxxx xxxx xxxx , xxxx xxxx xxxx # xxxx , xxxx xxxx xxxx ... i no longer live at the follow addresses i have been the victim of id theft so please remove the following address : xxxx xxxx xxxx xxxx , xxxx , oh xxxx xxxx xxxx xxxx xxxx , xxxx , oh xxxx xxxx xxxx xxxx xxxx xxxx xxxx , xxxx , fl xxxx xxxx xxxx xxxx xxxx xxxx xxxx , xxxx xxxx , fl xxxx xxxx xxxx xxxx xxxx , xxxx , oh xxxx xxxx/xxxx/xxxx xxxx xxxx xxxx , xxxx , oh xxxx xxxx xxxx xxxx , xxxx , oh xxxx xxxx xxxx xxxx xxxx , xxxx xxxx oh xxxx xxxx xxxx xxxx , xxxx , oh xxxx xxxx xxxx xxxx xxxx , xxxx , oh xxxx xxxx xxxx xxxx xxxx xxxx xxxx , xxxx xxxx , fl xxxx xxxx xxxx sq , xxxx , oh xxxx xxxx xxxx xxxx xxxx , xxxx , oh xxxx xxxx/xxxx/xxxx xxxx xxxx xxxx xxxx xxxx , xxxx , oh xxxx xxxx xxxx xxxx xxxx , xxxx , oh xxxx',\n",
       " \"since xxxx xxxx , i was working with a loan consultant xxxx xxxx with caliber home loans as i was looking to purchase a new home . i 've worked with xxxx xxxx in the past , and i trusted that she would help me obtain a new home loan as she did for previously . the presenting issue is that for nine months xxxx xxxx with caliber home loans used deceptive , predatory lending practices in an attempt to obtain a home loan on my behalf that she knew i would not qualify to get . to explain further i just learned from a more reputable lender that i am only qualified to purchase a home loan for { $ 300000.00 } when for 9 months xxxx xxxx with caliber homes provided pre-approvals for 4 different home in the range of { $ 400000.00 } to { $ 640000.00 } when she knew that i was in no way capable of obtaining a loan in that range . she knowingly continued to deceive me knowing that i was selling my current home , about to rent and own a new home that she provided a preapproval to purchase knowing that my xxxx only showed that i made { $ 39000.00 } . she just admitted to this omission after she ran my credit twice , allowed me to go forward with putting my previous home up for sale and assisted in the sale of my last house , she knew i would lose a { $ 2000.00 } deposit on a home i can not afford to purchase and never would have been able to buy because she has had access to my xxxx since xxxx . i took a loss of { $ 80000.00 } on the purchase of my old house , lost my { $ 2000.00 } deposit on the new home , { $ 1000.00 } in moving expenses and the unfortunate owner of the house i am being forced to vacate is also impacted as his house has been off the market for 3 months because of her lies , deception an omission . additionally , she stopped corresponding with me after she finally told me the truth . this is no how you treat someone you called `` like family . '' her tactics to use me to deceptively obtain a loan she knew i would not afford has harmed me financially and emotionally . now , i have to find a place to live again ( i just moved in xxxx because of her lies and sold my house ) as not to disrupt my children as well as deal with a homeowner who was also financially harmed . all of the above events took place from xxxx xxxx until xxxx xxxx . additionally , caliber home loans serviced my previous home loan that another lender told me i should n't have received either because i did not qualify and they did not pay my taxes on that house . i did n't realize this until xxxx xxxx when a received a notice from xxxx county that they were putting a lien on my house for a tax sale . i had to pay those taxes out of my pocket because of the error . i still have n't been reimbursed for those fees either .\",\n",
       " \"on xx/xx/xxxx i went to ntl in delaware for a loan , desperate because i had to move on xx/xx/xxxx and did n't have all the money to do so . i received xxxx on that day , not realizing the interest was at 300 % . i am a pa resident . and do n't think my interest should be this high . i am now struggling to pay xxxx a month just in interest and not towards the loan .\",\n",
       " 'hello cfpb , i am sending this complaint to your office in hopes to resolve a credit reporting error with trans union . between the months of xx/xx/xxxxand xx/xx/xxxx 2016 i sent a written dispute to trans union to for them to remove a collection account that was reporting by xxxx xxxx xxxx xxxx xxxx . i advise in the letter that the account reporting was an error and that collection agency have forwarded them information to delete the file from their records . after sending trans union my dispute letter and a letter from xxxx xxxx xxxx xxxx xxxx stating that they have instructed the credit reporting agencies to remove the account , the account still is reporting on my trans union credit report . please see below .']"
      ]
     },
     "execution_count": 3,
     "metadata": {},
     "output_type": "execute_result"
    }
   ],
   "source": [
    "import nltk, re, string\n",
    "import numpy as np\n",
    "\n",
    "newtexts = []\n",
    "for text in texts:\n",
    "    tokens = nltk.word_tokenize(text.lower())\n",
    "    newtext = \" \".join(tokens)\n",
    "    newtexts.append(newtext)\n",
    "\n",
    "newtexts[0:5]"
   ]
  },
  {
   "cell_type": "markdown",
   "metadata": {},
   "source": [
    "- token amount: 53779"
   ]
  },
  {
   "cell_type": "code",
   "execution_count": 4,
   "metadata": {},
   "outputs": [
    {
     "data": {
      "text/plain": [
       "scipy.sparse.csr.csr_matrix"
      ]
     },
     "execution_count": 4,
     "metadata": {},
     "output_type": "execute_result"
    },
    {
     "data": {
      "text/plain": [
       "(87592, 53779)"
      ]
     },
     "execution_count": 4,
     "metadata": {},
     "output_type": "execute_result"
    }
   ],
   "source": [
    "from sklearn.feature_extraction.text import TfidfVectorizer\n",
    "\n",
    "tfidf_vect = TfidfVectorizer() \n",
    "tf_idf = tfidf_vect.fit_transform(newtexts)\n",
    "\n",
    "type(tf_idf)\n",
    "tf_idf.shape"
   ]
  },
  {
   "cell_type": "code",
   "execution_count": 6,
   "metadata": {},
   "outputs": [
    {
     "name": "stderr",
     "output_type": "stream",
     "text": [
      "C:\\Users\\a\\Anaconda3\\lib\\site-packages\\sklearn\\metrics\\classification.py:1135: UndefinedMetricWarning: Precision and F-score are ill-defined and being set to 0.0 in labels with no predicted samples.\n",
      "  'precision', 'predicted', average, warn_for)\n"
     ]
    },
    {
     "name": "stdout",
     "output_type": "stream",
     "text": [
      "                                                                                                                                                                      precision    recall  f1-score   support\n",
      "\n",
      "                                                                                                               ('Checking or savings account', 'Closing an account')       0.00      0.00      0.00       198\n",
      "                                                                                                              ('Checking or savings account', 'Managing an account')       0.45      0.02      0.03       848\n",
      "                                                                                                               ('Checking or savings account', 'Opening an account')       0.00      0.00      0.00       181\n",
      "                                                                                           ('Checking or savings account', 'Problem caused by your funds being low')       0.00      0.00      0.00       174\n",
      "                                                                     ('Checking or savings account', 'Problem with a lender or other company charging your account')       0.00      0.00      0.00       167\n",
      "                                                                                                                           ('Checking or savings account', 'others')       0.00      0.00      0.00        15\n",
      "                                                                                                            ('Credit card or prepaid card', 'Getting a credit card')       0.00      0.00      0.00       218\n",
      "                                                                                  ('Credit card or prepaid card', 'Problem with a purchase shown on your statement')       0.00      0.00      0.00       525\n",
      "                                                                                                                        ('Credit card or prepaid card', 'advertise')       0.00      0.00      0.00       217\n",
      "                                                                                                                    ('Credit card or prepaid card', 'close account')       0.00      0.00      0.00       241\n",
      "                                                                                                                             ('Credit card or prepaid card', 'fees')       0.00      0.00      0.00       421\n",
      "                                                                                                                           ('Credit card or prepaid card', 'others')       0.00      0.00      0.00       381\n",
      "                                                                                                                           ('Credit card or prepaid card', 'report')       0.00      0.00      0.00       102\n",
      "                                                                                                               ('Credit card or prepaid card', 'trouble using card')       0.00      0.00      0.00       487\n",
      "('Credit reporting, credit repair services, or other personal consumer reports', \"Problem with a credit reporting company's investigation into an existing problem\")       0.83      0.03      0.05      2657\n",
      "                                                     ('Credit reporting, credit repair services, or other personal consumer reports', 'Improper use of your report')       0.78      0.37      0.50      2296\n",
      "                                            ('Credit reporting, credit repair services, or other personal consumer reports', 'Incorrect information on your report')       0.19      0.99      0.33      4766\n",
      "                                ('Credit reporting, credit repair services, or other personal consumer reports', 'Unable to get your credit report or credit score')       0.00      0.00      0.00       253\n",
      "                                                                 ('Credit reporting, credit repair services, or other personal consumer reports', 'fraud detection')       0.00      0.00      0.00       629\n",
      "                                                                          ('Credit reporting, credit repair services, or other personal consumer reports', 'others')       0.00      0.00      0.00        79\n",
      "                                                                                                            ('Debt collection', 'Attempts to collect debt not owed')       0.41      0.09      0.15      2283\n",
      "                                                                                                                        ('Debt collection', 'Communication tactics')       1.00      0.00      0.01       664\n",
      "                                                                                                           ('Debt collection', 'False statements or representation')       0.00      0.00      0.00       587\n",
      "                                                                                ('Debt collection', 'Threatened to contact someone or share information improperly')       0.00      0.00      0.00       165\n",
      "                                                                                          ('Debt collection', 'Took or threatened to take negative or legal action')       0.00      0.00      0.00       693\n",
      "                                                                                                              ('Debt collection', 'Written notification about debt')       0.00      0.00      0.00      1011\n",
      "                                                                                             ('Money transfer, virtual currency, or money service', 'Fraud or scam')       0.00      0.00      0.00       144\n",
      "                                                                     ('Money transfer, virtual currency, or money service', 'Money was not available when promised')       0.00      0.00      0.00       178\n",
      "                                                                                                    ('Money transfer, virtual currency, or money service', 'others')       0.00      0.00      0.00       136\n",
      "                                                                                                   ('Money transfer, virtual currency, or money service', 'service')       0.00      0.00      0.00        59\n",
      "                                                                                               ('Money transfer, virtual currency, or money service', 'transcation')       0.00      0.00      0.00       163\n",
      "                                                                                                                               ('Mortgage', 'Closing on a mortgage')       0.00      0.00      0.00       248\n",
      "                                                                                                                          ('Mortgage', 'Struggling to pay mortgage')       0.85      0.08      0.14       926\n",
      "                                                                                                                      ('Mortgage', 'Trouble during payment process')       0.77      0.07      0.14      1157\n",
      "                                                                                                                                  ('Mortgage', 'apply for mortgage')       0.00      0.00      0.00       316\n",
      "                                                                                                                                              ('Mortgage', 'others')       0.00      0.00      0.00         4\n",
      "                                                                                                                                              ('Mortgage', 'report')       0.00      0.00      0.00        72\n",
      "                                                                                                                              ('loan', 'Managing the loan or lease')       0.00      0.00      0.00       265\n",
      "                                                                                                                                                 ('loan', 'contact')       0.75      0.04      0.08       936\n",
      "                                                                                                                                         ('loan', 'enexpected fees')       0.00      0.00      0.00       152\n",
      "                                                                                                                                          ('loan', 'getting a loan')       0.00      0.00      0.00       162\n",
      "                                                                                                                                                  ('loan', 'others')       0.00      0.00      0.00        69\n",
      "                                                                                                                                                 ('loan', 'payment')       1.00      0.00      0.00       869\n",
      "                                                                                                                                                  ('loan', 'report')       0.00      0.00      0.00       164\n",
      "\n",
      "                                                                                                                                                         avg / total       0.39      0.23      0.14     26278\n",
      "\n",
      "Accuracy:\n"
     ]
    },
    {
     "name": "stdout",
     "output_type": "stream",
     "text": [
      "0.231296141259\n"
     ]
    }
   ],
   "source": [
    "from sklearn.naive_bayes import MultinomialNB\n",
    "from sklearn.model_selection import train_test_split\n",
    "from sklearn.metrics import precision_recall_fscore_support\n",
    "from sklearn.metrics import classification_report\n",
    "from sklearn.metrics import accuracy_score\n",
    "\n",
    "# split dataset into train (70%) and test sets (30%)\n",
    "X_train, X_test, y_train, y_test = train_test_split(\\\n",
    "                tf_idf, target, test_size=0.3, random_state=0, stratify=target)\n",
    "\n",
    "# train a multinomial naive Bayes model using the testing data\n",
    "clf = MultinomialNB().fit(X_train, y_train)\n",
    "\n",
    "# predict the news group for the test dataset\n",
    "predicted=clf.predict(X_test)\n",
    "\n",
    "# get the list of unique labels\n",
    "labels=sorted(list(set(target)))\n",
    "\n",
    "# calculate performance metrics\n",
    "precision, recall, fscore, support=\\\n",
    "     precision_recall_fscore_support(\\\n",
    "     y_test, predicted, labels=labels)\n",
    "    \n",
    "print(classification_report\\\n",
    "      (y_test, predicted, target_names=labels))\n",
    "\n",
    "print(\"Accuracy:\")\n",
    "print(accuracy_score(y_test, predicted))"
   ]
  },
  {
   "cell_type": "code",
   "execution_count": null,
   "metadata": {
    "collapsed": true
   },
   "outputs": [],
   "source": [
    "# tune parameters using grid search\n",
    "\n",
    "from sklearn.pipeline import Pipeline\n",
    "from sklearn.model_selection import GridSearchCV\n",
    "\n",
    "\n",
    "# build a pipeline to generate the tf-idf matrix and train the classifer all together\n",
    "text_clf = Pipeline([('tfidf', TfidfVectorizer()),('clf', MultinomialNB())])\n",
    "\n",
    "\n",
    "# set the range of parameters to be tuned\n",
    "parameters = {'tfidf__min_df':[1,2,5,10],'clf__alpha': [0.1,0.2,0.5,1.0],}\n",
    "\n",
    "# set the matrix to select the best parameter\n",
    "metric = \"f1_macro\"\n",
    "\n",
    "\n",
    "# conduct the grid search\n",
    "\n",
    "gs_clf = GridSearchCV(text_clf, param_grid = parameters, scoring = metric, cv=6)\n",
    "gs_clf = gs_clf.fit(texts, target)\n",
    "\n",
    "for param_name in gs_clf.best_params_:\n",
    "    print(param_name,\": \",gs_clf.best_params_[param_name])\n",
    "    \n",
    "print(\"best f1 score:\", gs_clf.best_score_)\n"
   ]
  },
  {
   "cell_type": "markdown",
   "metadata": {},
   "source": [
    "### tune parameter: min_df=10, alpha=0.1 (then fixed)"
   ]
  },
  {
   "cell_type": "markdown",
   "metadata": {},
   "source": [
    "- token amount: 12697"
   ]
  },
  {
   "cell_type": "code",
   "execution_count": 7,
   "metadata": {},
   "outputs": [
    {
     "data": {
      "text/plain": [
       "scipy.sparse.csr.csr_matrix"
      ]
     },
     "execution_count": 7,
     "metadata": {},
     "output_type": "execute_result"
    },
    {
     "data": {
      "text/plain": [
       "(87592, 12697)"
      ]
     },
     "execution_count": 7,
     "metadata": {},
     "output_type": "execute_result"
    }
   ],
   "source": [
    "from sklearn.feature_extraction.text import TfidfVectorizer\n",
    "\n",
    "tfidf_vect = TfidfVectorizer(min_df=10) \n",
    "tf_idf = tfidf_vect.fit_transform(newtexts)\n",
    "\n",
    "type(tf_idf)\n",
    "tf_idf.shape"
   ]
  },
  {
   "cell_type": "code",
   "execution_count": 8,
   "metadata": {},
   "outputs": [
    {
     "name": "stderr",
     "output_type": "stream",
     "text": [
      "C:\\Users\\a\\Anaconda3\\lib\\site-packages\\sklearn\\metrics\\classification.py:1135: UndefinedMetricWarning: Precision and F-score are ill-defined and being set to 0.0 in labels with no predicted samples.\n",
      "  'precision', 'predicted', average, warn_for)\n"
     ]
    },
    {
     "name": "stdout",
     "output_type": "stream",
     "text": [
      "                                                                                                                                                                      precision    recall  f1-score   support\n",
      "\n",
      "                                                                                                               ('Checking or savings account', 'Closing an account')       1.00      0.03      0.05       198\n",
      "                                                                                                              ('Checking or savings account', 'Managing an account')       0.38      0.80      0.51       848\n",
      "                                                                                                               ('Checking or savings account', 'Opening an account')       0.72      0.29      0.42       181\n",
      "                                                                                           ('Checking or savings account', 'Problem caused by your funds being low')       0.65      0.09      0.15       174\n",
      "                                                                     ('Checking or savings account', 'Problem with a lender or other company charging your account')       0.00      0.00      0.00       167\n",
      "                                                                                                                           ('Checking or savings account', 'others')       0.00      0.00      0.00        15\n",
      "                                                                                                            ('Credit card or prepaid card', 'Getting a credit card')       0.68      0.09      0.15       218\n",
      "                                                                                  ('Credit card or prepaid card', 'Problem with a purchase shown on your statement')       0.55      0.56      0.55       525\n",
      "                                                                                                                        ('Credit card or prepaid card', 'advertise')       0.66      0.31      0.42       217\n",
      "                                                                                                                    ('Credit card or prepaid card', 'close account')       0.81      0.12      0.22       241\n",
      "                                                                                                                             ('Credit card or prepaid card', 'fees')       0.57      0.63      0.60       421\n",
      "                                                                                                                           ('Credit card or prepaid card', 'others')       0.46      0.28      0.35       381\n",
      "                                                                                                                           ('Credit card or prepaid card', 'report')       0.00      0.00      0.00       102\n",
      "                                                                                                               ('Credit card or prepaid card', 'trouble using card')       0.41      0.32      0.36       487\n",
      "('Credit reporting, credit repair services, or other personal consumer reports', \"Problem with a credit reporting company's investigation into an existing problem\")       0.61      0.38      0.47      2657\n",
      "                                                     ('Credit reporting, credit repair services, or other personal consumer reports', 'Improper use of your report')       0.76      0.67      0.71      2296\n",
      "                                            ('Credit reporting, credit repair services, or other personal consumer reports', 'Incorrect information on your report')       0.45      0.80      0.58      4766\n",
      "                                ('Credit reporting, credit repair services, or other personal consumer reports', 'Unable to get your credit report or credit score')       0.84      0.21      0.33       253\n",
      "                                                                 ('Credit reporting, credit repair services, or other personal consumer reports', 'fraud detection')       0.70      0.54      0.61       629\n",
      "                                                                          ('Credit reporting, credit repair services, or other personal consumer reports', 'others')       0.00      0.00      0.00        79\n",
      "                                                                                                            ('Debt collection', 'Attempts to collect debt not owed')       0.45      0.60      0.51      2283\n",
      "                                                                                                                        ('Debt collection', 'Communication tactics')       0.53      0.65      0.59       664\n",
      "                                                                                                           ('Debt collection', 'False statements or representation')       0.50      0.05      0.09       587\n",
      "                                                                                ('Debt collection', 'Threatened to contact someone or share information improperly')       1.00      0.02      0.05       165\n",
      "                                                                                          ('Debt collection', 'Took or threatened to take negative or legal action')       0.43      0.20      0.28       693\n",
      "                                                                                                              ('Debt collection', 'Written notification about debt')       0.53      0.15      0.23      1011\n",
      "                                                                                             ('Money transfer, virtual currency, or money service', 'Fraud or scam')       0.83      0.07      0.13       144\n",
      "                                                                     ('Money transfer, virtual currency, or money service', 'Money was not available when promised')       0.52      0.63      0.57       178\n",
      "                                                                                                    ('Money transfer, virtual currency, or money service', 'others')       0.47      0.05      0.09       136\n",
      "                                                                                                   ('Money transfer, virtual currency, or money service', 'service')       0.00      0.00      0.00        59\n",
      "                                                                                               ('Money transfer, virtual currency, or money service', 'transcation')       0.34      0.16      0.22       163\n",
      "                                                                                                                               ('Mortgage', 'Closing on a mortgage')       0.68      0.12      0.21       248\n",
      "                                                                                                                          ('Mortgage', 'Struggling to pay mortgage')       0.66      0.80      0.72       926\n",
      "                                                                                                                      ('Mortgage', 'Trouble during payment process')       0.59      0.79      0.67      1157\n",
      "                                                                                                                                  ('Mortgage', 'apply for mortgage')       0.59      0.32      0.42       316\n",
      "                                                                                                                                              ('Mortgage', 'others')       0.00      0.00      0.00         4\n",
      "                                                                                                                                              ('Mortgage', 'report')       0.00      0.00      0.00        72\n",
      "                                                                                                                              ('loan', 'Managing the loan or lease')       0.35      0.07      0.11       265\n",
      "                                                                                                                                                 ('loan', 'contact')       0.62      0.74      0.68       936\n",
      "                                                                                                                                         ('loan', 'enexpected fees')       0.73      0.07      0.13       152\n",
      "                                                                                                                                          ('loan', 'getting a loan')       0.71      0.03      0.06       162\n",
      "                                                                                                                                                  ('loan', 'others')       0.00      0.00      0.00        69\n",
      "                                                                                                                                                 ('loan', 'payment')       0.42      0.49      0.45       869\n",
      "                                                                                                                                                  ('loan', 'report')       1.00      0.01      0.01       164\n",
      "\n",
      "                                                                                                                                                         avg / total       0.55      0.52      0.48     26278\n",
      "\n",
      "Accuracy:\n"
     ]
    },
    {
     "name": "stdout",
     "output_type": "stream",
     "text": [
      "0.519826470812\n"
     ]
    }
   ],
   "source": [
    "from sklearn.naive_bayes import MultinomialNB\n",
    "from sklearn.model_selection import train_test_split\n",
    "from sklearn.metrics import precision_recall_fscore_support\n",
    "from sklearn.metrics import classification_report\n",
    "from sklearn.metrics import accuracy_score\n",
    "\n",
    "# split dataset into train (70%) and test sets (30%)\n",
    "X_train, X_test, y_train, y_test = train_test_split(\\\n",
    "                tf_idf, target, test_size=0.3, random_state=0, stratify=target)\n",
    "\n",
    "# train a multinomial naive Bayes model using the testing data\n",
    "clf = MultinomialNB(alpha=0.1).fit(X_train, y_train)\n",
    "\n",
    "# predict the news group for the test dataset\n",
    "predicted=clf.predict(X_test)\n",
    "\n",
    "# get the list of unique labels\n",
    "labels=sorted(list(set(target)))\n",
    "\n",
    "# calculate performance metrics\n",
    "precision, recall, fscore, support=\\\n",
    "     precision_recall_fscore_support(\\\n",
    "     y_test, predicted, labels=labels)\n",
    "    \n",
    "print(classification_report\\\n",
    "      (y_test, predicted, target_names=labels))\n",
    "\n",
    "print(\"Accuracy:\")\n",
    "print(accuracy_score(y_test, predicted))"
   ]
  },
  {
   "cell_type": "markdown",
   "metadata": {},
   "source": [
    "### 2. Text for tf-idf: tokenize + stopwords & punctuation removed"
   ]
  },
  {
   "cell_type": "code",
   "execution_count": 9,
   "metadata": {},
   "outputs": [
    {
     "data": {
      "text/plain": [
       "['many mistakes appear report without understanding',\n",
       " 'pulling credit looking buying home year seen quite unauthorized accounts trans union reports access credit file since seem someone use personal information access utilities cable bills recognize accounts listed credit file ... longer live follow addresses victim id theft please remove following address oh oh fl fl oh xxxx/xxxx/xxxx oh oh oh oh oh fl sq oh oh xxxx/xxxx/xxxx oh oh',\n",
       " \"since working loan consultant caliber home loans looking purchase new home 've worked past trusted would help obtain new home loan previously presenting issue nine months caliber home loans used deceptive predatory lending practices attempt obtain home loan behalf knew would qualify get explain learned reputable lender qualified purchase home loan 300000.00 9 months caliber homes provided pre-approvals 4 different home range 400000.00 640000.00 knew way capable obtaining loan range knowingly continued deceive knowing selling current home rent new home provided preapproval purchase knowing showed made 39000.00 admitted omission ran credit twice allowed go forward putting previous home sale assisted sale last house knew would lose 2000.00 deposit home afford purchase never would able buy access since took loss 80000.00 purchase old house lost 2000.00 deposit new home 1000.00 moving expenses unfortunate owner house forced vacate also impacted house market 3 months lies deception omission additionally stopped corresponding finally told truth treat someone called `` like family '' tactics use deceptively obtain loan knew would afford harmed financially emotionally find place live moved lies sold house disrupt children well deal homeowner also financially harmed events took place additionally caliber home loans serviced previous home loan another lender told n't received either qualify pay taxes house n't realize received notice county putting lien house tax sale pay taxes pocket error still n't reimbursed fees either\",\n",
       " \"xx/xx/xxxx went ntl delaware loan desperate move xx/xx/xxxx n't money received day realizing interest 300 pa resident n't think interest high struggling pay month interest towards loan\",\n",
       " 'hello cfpb sending complaint office hopes resolve credit reporting error trans union months xx/xx/xxxxand xx/xx/xxxx 2016 sent written dispute trans union remove collection account reporting advise letter account reporting error collection agency forwarded information delete file records sending trans union dispute letter letter stating instructed credit reporting agencies remove account account still reporting trans union credit report please see']"
      ]
     },
     "execution_count": 9,
     "metadata": {},
     "output_type": "execute_result"
    }
   ],
   "source": [
    "import nltk, re, string\n",
    "import numpy as np\n",
    "from nltk.corpus import stopwords\n",
    "\n",
    "stop_words = stopwords.words('english')\n",
    "stop_words += [\"xx\", \"xxxx\"]\n",
    "\n",
    "newtexts = []\n",
    "for text in texts:\n",
    "    tokens = nltk.word_tokenize(text.lower())\n",
    "    text_tokens = [token.strip() for token in tokens \\\n",
    "                   if token.strip() not in stop_words \\\n",
    "                   and token.strip() not in string.punctuation]\n",
    "    newtext = \" \".join(text_tokens)\n",
    "    newtexts.append(newtext)\n",
    "    \n",
    "newtexts[0:5]"
   ]
  },
  {
   "cell_type": "markdown",
   "metadata": {},
   "source": [
    "- token amount: 12673"
   ]
  },
  {
   "cell_type": "code",
   "execution_count": 10,
   "metadata": {},
   "outputs": [
    {
     "data": {
      "text/plain": [
       "scipy.sparse.csr.csr_matrix"
      ]
     },
     "execution_count": 10,
     "metadata": {},
     "output_type": "execute_result"
    },
    {
     "data": {
      "text/plain": [
       "(87592, 12673)"
      ]
     },
     "execution_count": 10,
     "metadata": {},
     "output_type": "execute_result"
    }
   ],
   "source": [
    "from sklearn.feature_extraction.text import TfidfVectorizer\n",
    "\n",
    "tfidf_vect = TfidfVectorizer(min_df=10) \n",
    "tf_idf = tfidf_vect.fit_transform(newtexts)\n",
    "\n",
    "type(tf_idf)\n",
    "tf_idf.shape"
   ]
  },
  {
   "cell_type": "code",
   "execution_count": 11,
   "metadata": {},
   "outputs": [
    {
     "name": "stderr",
     "output_type": "stream",
     "text": [
      "C:\\Users\\a\\Anaconda3\\lib\\site-packages\\sklearn\\metrics\\classification.py:1135: UndefinedMetricWarning: Precision and F-score are ill-defined and being set to 0.0 in labels with no predicted samples.\n",
      "  'precision', 'predicted', average, warn_for)\n"
     ]
    },
    {
     "name": "stdout",
     "output_type": "stream",
     "text": [
      "                                                                                                                                                                      precision    recall  f1-score   support\n",
      "\n",
      "                                                                                                               ('Checking or savings account', 'Closing an account')       0.70      0.04      0.07       198\n",
      "                                                                                                              ('Checking or savings account', 'Managing an account')       0.38      0.79      0.52       848\n",
      "                                                                                                               ('Checking or savings account', 'Opening an account')       0.69      0.33      0.44       181\n",
      "                                                                                           ('Checking or savings account', 'Problem caused by your funds being low')       0.57      0.16      0.24       174\n",
      "                                                                     ('Checking or savings account', 'Problem with a lender or other company charging your account')       0.00      0.00      0.00       167\n",
      "                                                                                                                           ('Checking or savings account', 'others')       0.00      0.00      0.00        15\n",
      "                                                                                                            ('Credit card or prepaid card', 'Getting a credit card')       0.57      0.11      0.18       218\n",
      "                                                                                  ('Credit card or prepaid card', 'Problem with a purchase shown on your statement')       0.55      0.60      0.57       525\n",
      "                                                                                                                        ('Credit card or prepaid card', 'advertise')       0.63      0.34      0.44       217\n",
      "                                                                                                                    ('Credit card or prepaid card', 'close account')       0.70      0.15      0.25       241\n",
      "                                                                                                                             ('Credit card or prepaid card', 'fees')       0.54      0.66      0.59       421\n",
      "                                                                                                                           ('Credit card or prepaid card', 'others')       0.44      0.30      0.36       381\n",
      "                                                                                                                           ('Credit card or prepaid card', 'report')       0.50      0.01      0.02       102\n",
      "                                                                                                               ('Credit card or prepaid card', 'trouble using card')       0.41      0.36      0.38       487\n",
      "('Credit reporting, credit repair services, or other personal consumer reports', \"Problem with a credit reporting company's investigation into an existing problem\")       0.60      0.41      0.49      2657\n",
      "                                                     ('Credit reporting, credit repair services, or other personal consumer reports', 'Improper use of your report')       0.76      0.73      0.74      2296\n",
      "                                            ('Credit reporting, credit repair services, or other personal consumer reports', 'Incorrect information on your report')       0.48      0.77      0.59      4766\n",
      "                                ('Credit reporting, credit repair services, or other personal consumer reports', 'Unable to get your credit report or credit score')       0.80      0.26      0.39       253\n",
      "                                                                 ('Credit reporting, credit repair services, or other personal consumer reports', 'fraud detection')       0.68      0.55      0.61       629\n",
      "                                                                          ('Credit reporting, credit repair services, or other personal consumer reports', 'others')       0.00      0.00      0.00        79\n",
      "                                                                                                            ('Debt collection', 'Attempts to collect debt not owed')       0.46      0.60      0.52      2283\n",
      "                                                                                                                        ('Debt collection', 'Communication tactics')       0.54      0.66      0.60       664\n",
      "                                                                                                           ('Debt collection', 'False statements or representation')       0.45      0.06      0.11       587\n",
      "                                                                                ('Debt collection', 'Threatened to contact someone or share information improperly')       1.00      0.03      0.06       165\n",
      "                                                                                          ('Debt collection', 'Took or threatened to take negative or legal action')       0.44      0.24      0.31       693\n",
      "                                                                                                              ('Debt collection', 'Written notification about debt')       0.51      0.18      0.26      1011\n",
      "                                                                                             ('Money transfer, virtual currency, or money service', 'Fraud or scam')       0.82      0.10      0.17       144\n",
      "                                                                     ('Money transfer, virtual currency, or money service', 'Money was not available when promised')       0.51      0.65      0.57       178\n",
      "                                                                                                    ('Money transfer, virtual currency, or money service', 'others')       0.53      0.07      0.12       136\n",
      "                                                                                                   ('Money transfer, virtual currency, or money service', 'service')       0.00      0.00      0.00        59\n",
      "                                                                                               ('Money transfer, virtual currency, or money service', 'transcation')       0.36      0.20      0.25       163\n",
      "                                                                                                                               ('Mortgage', 'Closing on a mortgage')       0.68      0.17      0.27       248\n",
      "                                                                                                                          ('Mortgage', 'Struggling to pay mortgage')       0.66      0.81      0.73       926\n",
      "                                                                                                                      ('Mortgage', 'Trouble during payment process')       0.60      0.79      0.69      1157\n",
      "                                                                                                                                  ('Mortgage', 'apply for mortgage')       0.59      0.36      0.45       316\n",
      "                                                                                                                                              ('Mortgage', 'others')       0.00      0.00      0.00         4\n",
      "                                                                                                                                              ('Mortgage', 'report')       0.00      0.00      0.00        72\n",
      "                                                                                                                              ('loan', 'Managing the loan or lease')       0.36      0.11      0.16       265\n",
      "                                                                                                                                                 ('loan', 'contact')       0.61      0.75      0.67       936\n",
      "                                                                                                                                         ('loan', 'enexpected fees')       0.72      0.09      0.15       152\n",
      "                                                                                                                                          ('loan', 'getting a loan')       0.40      0.04      0.07       162\n",
      "                                                                                                                                                  ('loan', 'others')       0.00      0.00      0.00        69\n",
      "                                                                                                                                                 ('loan', 'payment')       0.43      0.49      0.46       869\n",
      "                                                                                                                                                  ('loan', 'report')       1.00      0.03      0.06       164\n",
      "\n",
      "                                                                                                                                                         avg / total       0.55      0.53      0.50     26278\n",
      "\n",
      "Accuracy:\n"
     ]
    },
    {
     "name": "stdout",
     "output_type": "stream",
     "text": [
      "0.53192784839\n"
     ]
    }
   ],
   "source": [
    "from sklearn.naive_bayes import MultinomialNB\n",
    "from sklearn.model_selection import train_test_split\n",
    "from sklearn.metrics import precision_recall_fscore_support\n",
    "from sklearn.metrics import classification_report\n",
    "from sklearn.metrics import accuracy_score\n",
    "\n",
    "# split dataset into train (70%) and test sets (30%)\n",
    "X_train, X_test, y_train, y_test = train_test_split(\\\n",
    "                tf_idf, target, test_size=0.3, random_state=0, stratify=target)\n",
    "\n",
    "# train a multinomial naive Bayes model using the testing data\n",
    "clf = MultinomialNB(alpha=0.1).fit(X_train, y_train)\n",
    "\n",
    "# predict the news group for the test dataset\n",
    "predicted=clf.predict(X_test)\n",
    "\n",
    "# get the list of unique labels\n",
    "labels=sorted(list(set(target)))\n",
    "\n",
    "# calculate performance metrics\n",
    "precision, recall, fscore, support=\\\n",
    "     precision_recall_fscore_support(\\\n",
    "     y_test, predicted, labels=labels)\n",
    "    \n",
    "print(classification_report\\\n",
    "      (y_test, predicted, target_names=labels))\n",
    "\n",
    "print(\"Accuracy:\")\n",
    "print(accuracy_score(y_test, predicted))"
   ]
  },
  {
   "cell_type": "markdown",
   "metadata": {},
   "source": [
    "### 3. Text for tf-idf: tokenize + stopwords & punctuation removed + non-English words removed"
   ]
  },
  {
   "cell_type": "code",
   "execution_count": 12,
   "metadata": {},
   "outputs": [
    {
     "data": {
      "text/plain": [
       "['many appear report without understanding',\n",
       " 'credit looking home year seen quite unauthorized union access credit file since seem someone use personal information access cable recognize listed credit file longer live follow victim id theft please remove following address oh oh oh oh oh oh oh oh oh oh oh oh',\n",
       " 'since working loan consultant caliber home looking purchase new home worked past would help obtain new home loan previously issue nine caliber home used deceptive predatory attempt obtain home loan behalf knew would qualify get explain learned reputable lender qualified purchase home loan caliber provided different home range knew way capable loan range knowingly continued deceive knowing selling current home rent new home provided preapproval purchase knowing made admitted omission ran credit twice go forward previous home sale sale last house knew would lose deposit home afford purchase never would able buy access since took loss purchase old house lost deposit new home moving unfortunate owner house forced vacate also impacted house market deception omission additionally stopped corresponding finally told truth treat someone like family tactics use deceptively obtain loan knew would afford financially emotionally find place live sold house disrupt well deal homeowner also financially took place additionally caliber home previous home loan another lender told received either qualify pay house realize received notice county lien house tax sale pay pocket error still either',\n",
       " 'went loan desperate move money received day realizing interest pa resident think interest high struggling pay month interest towards loan',\n",
       " 'hello sending complaint office resolve credit error union sent written dispute union remove collection account advise letter account error collection agency information delete file sending union dispute letter letter instructed credit remove account account still union credit report please see']"
      ]
     },
     "execution_count": 12,
     "metadata": {},
     "output_type": "execute_result"
    }
   ],
   "source": [
    "import nltk, re, string\n",
    "import numpy as np\n",
    "from nltk.corpus import stopwords\n",
    "\n",
    "stop_words = stopwords.words('english')\n",
    "stop_words += [\"xx\", \"xxxx\"]\n",
    "words = set(nltk.corpus.words.words())\n",
    "    \n",
    "newtexts = []\n",
    "for text in texts:\n",
    "    tokens = nltk.word_tokenize(text.lower())\n",
    "    text_tokens = [token.strip() for token in tokens \\\n",
    "                   if token.strip() not in stop_words \\\n",
    "                   and token.strip() not in string.punctuation \\\n",
    "                   and token.strip() in words]\n",
    "    newtext = \" \".join(text_tokens)\n",
    "    newtexts.append(newtext)\n",
    "    \n",
    "newtexts[0:5]"
   ]
  },
  {
   "cell_type": "markdown",
   "metadata": {},
   "source": [
    "- token amount: 6923"
   ]
  },
  {
   "cell_type": "code",
   "execution_count": 13,
   "metadata": {},
   "outputs": [
    {
     "data": {
      "text/plain": [
       "scipy.sparse.csr.csr_matrix"
      ]
     },
     "execution_count": 13,
     "metadata": {},
     "output_type": "execute_result"
    },
    {
     "data": {
      "text/plain": [
       "(87592, 6923)"
      ]
     },
     "execution_count": 13,
     "metadata": {},
     "output_type": "execute_result"
    }
   ],
   "source": [
    "from sklearn.feature_extraction.text import TfidfVectorizer\n",
    "\n",
    "tfidf_vect = TfidfVectorizer(min_df=10) \n",
    "tf_idf = tfidf_vect.fit_transform(newtexts)\n",
    "\n",
    "type(tf_idf)\n",
    "tf_idf.shape"
   ]
  },
  {
   "cell_type": "code",
   "execution_count": 14,
   "metadata": {},
   "outputs": [
    {
     "name": "stderr",
     "output_type": "stream",
     "text": [
      "C:\\Users\\a\\Anaconda3\\lib\\site-packages\\sklearn\\metrics\\classification.py:1135: UndefinedMetricWarning: Precision and F-score are ill-defined and being set to 0.0 in labels with no predicted samples.\n",
      "  'precision', 'predicted', average, warn_for)\n"
     ]
    },
    {
     "name": "stdout",
     "output_type": "stream",
     "text": [
      "                                                                                                                                                                      precision    recall  f1-score   support\n",
      "\n",
      "                                                                                                               ('Checking or savings account', 'Closing an account')       0.64      0.04      0.07       198\n",
      "                                                                                                              ('Checking or savings account', 'Managing an account')       0.36      0.72      0.48       848\n",
      "                                                                                                               ('Checking or savings account', 'Opening an account')       0.69      0.35      0.46       181\n",
      "                                                                                           ('Checking or savings account', 'Problem caused by your funds being low')       0.68      0.15      0.25       174\n",
      "                                                                     ('Checking or savings account', 'Problem with a lender or other company charging your account')       0.00      0.00      0.00       167\n",
      "                                                                                                                           ('Checking or savings account', 'others')       0.00      0.00      0.00        15\n",
      "                                                                                                            ('Credit card or prepaid card', 'Getting a credit card')       0.61      0.09      0.15       218\n",
      "                                                                                  ('Credit card or prepaid card', 'Problem with a purchase shown on your statement')       0.53      0.51      0.52       525\n",
      "                                                                                                                        ('Credit card or prepaid card', 'advertise')       0.62      0.37      0.47       217\n",
      "                                                                                                                    ('Credit card or prepaid card', 'close account')       0.55      0.14      0.22       241\n",
      "                                                                                                                             ('Credit card or prepaid card', 'fees')       0.52      0.54      0.53       421\n",
      "                                                                                                                           ('Credit card or prepaid card', 'others')       0.41      0.22      0.28       381\n",
      "                                                                                                                           ('Credit card or prepaid card', 'report')       1.00      0.01      0.02       102\n",
      "                                                                                                               ('Credit card or prepaid card', 'trouble using card')       0.40      0.29      0.33       487\n",
      "('Credit reporting, credit repair services, or other personal consumer reports', \"Problem with a credit reporting company's investigation into an existing problem\")       0.55      0.35      0.43      2657\n",
      "                                                     ('Credit reporting, credit repair services, or other personal consumer reports', 'Improper use of your report')       0.73      0.69      0.71      2296\n",
      "                                            ('Credit reporting, credit repair services, or other personal consumer reports', 'Incorrect information on your report')       0.43      0.78      0.55      4766\n",
      "                                ('Credit reporting, credit repair services, or other personal consumer reports', 'Unable to get your credit report or credit score')       0.82      0.22      0.34       253\n",
      "                                                                 ('Credit reporting, credit repair services, or other personal consumer reports', 'fraud detection')       0.67      0.51      0.58       629\n",
      "                                                                          ('Credit reporting, credit repair services, or other personal consumer reports', 'others')       0.00      0.00      0.00        79\n",
      "                                                                                                            ('Debt collection', 'Attempts to collect debt not owed')       0.43      0.53      0.47      2283\n",
      "                                                                                                                        ('Debt collection', 'Communication tactics')       0.54      0.63      0.58       664\n",
      "                                                                                                           ('Debt collection', 'False statements or representation')       0.40      0.05      0.08       587\n",
      "                                                                                ('Debt collection', 'Threatened to contact someone or share information improperly')       0.88      0.04      0.08       165\n",
      "                                                                                          ('Debt collection', 'Took or threatened to take negative or legal action')       0.39      0.19      0.25       693\n",
      "                                                                                                              ('Debt collection', 'Written notification about debt')       0.54      0.17      0.26      1011\n",
      "                                                                                             ('Money transfer, virtual currency, or money service', 'Fraud or scam')       0.60      0.02      0.04       144\n",
      "                                                                     ('Money transfer, virtual currency, or money service', 'Money was not available when promised')       0.55      0.52      0.53       178\n",
      "                                                                                                    ('Money transfer, virtual currency, or money service', 'others')       0.53      0.06      0.11       136\n",
      "                                                                                                   ('Money transfer, virtual currency, or money service', 'service')       0.00      0.00      0.00        59\n",
      "                                                                                               ('Money transfer, virtual currency, or money service', 'transcation')       0.41      0.17      0.24       163\n",
      "                                                                                                                               ('Mortgage', 'Closing on a mortgage')       0.51      0.12      0.20       248\n",
      "                                                                                                                          ('Mortgage', 'Struggling to pay mortgage')       0.66      0.79      0.72       926\n",
      "                                                                                                                      ('Mortgage', 'Trouble during payment process')       0.59      0.74      0.66      1157\n",
      "                                                                                                                                  ('Mortgage', 'apply for mortgage')       0.55      0.30      0.39       316\n",
      "                                                                                                                                              ('Mortgage', 'others')       0.00      0.00      0.00         4\n",
      "                                                                                                                                              ('Mortgage', 'report')       0.00      0.00      0.00        72\n",
      "                                                                                                                              ('loan', 'Managing the loan or lease')       0.32      0.09      0.14       265\n",
      "                                                                                                                                                 ('loan', 'contact')       0.56      0.68      0.61       936\n",
      "                                                                                                                                         ('loan', 'enexpected fees')       0.59      0.07      0.12       152\n",
      "                                                                                                                                          ('loan', 'getting a loan')       0.29      0.02      0.05       162\n",
      "                                                                                                                                                  ('loan', 'others')       0.00      0.00      0.00        69\n",
      "                                                                                                                                                 ('loan', 'payment')       0.42      0.46      0.44       869\n",
      "                                                                                                                                                  ('loan', 'report')       1.00      0.02      0.04       164\n",
      "\n",
      "                                                                                                                                                         avg / total       0.51      0.50      0.46     26278\n",
      "\n",
      "Accuracy:\n"
     ]
    },
    {
     "name": "stdout",
     "output_type": "stream",
     "text": [
      "0.496460917878\n"
     ]
    }
   ],
   "source": [
    "from sklearn.naive_bayes import MultinomialNB\n",
    "from sklearn.model_selection import train_test_split\n",
    "from sklearn.metrics import precision_recall_fscore_support\n",
    "from sklearn.metrics import classification_report\n",
    "from sklearn.metrics import accuracy_score\n",
    "\n",
    "# split dataset into train (70%) and test sets (30%)\n",
    "X_train, X_test, y_train, y_test = train_test_split(\\\n",
    "                tf_idf, target, test_size=0.3, random_state=0, stratify=target)\n",
    "\n",
    "# train a multinomial naive Bayes model using the testing data\n",
    "clf = MultinomialNB(alpha=0.1).fit(X_train, y_train)\n",
    "\n",
    "# predict the news group for the test dataset\n",
    "predicted=clf.predict(X_test)\n",
    "\n",
    "# get the list of unique labels\n",
    "labels=sorted(list(set(target)))\n",
    "\n",
    "# calculate performance metrics\n",
    "precision, recall, fscore, support=\\\n",
    "     precision_recall_fscore_support(\\\n",
    "     y_test, predicted, labels=labels)\n",
    "    \n",
    "print(classification_report\\\n",
    "      (y_test, predicted, target_names=labels))\n",
    "\n",
    "print(\"Accuracy:\")\n",
    "print(accuracy_score(y_test, predicted))"
   ]
  },
  {
   "cell_type": "markdown",
   "metadata": {},
   "source": [
    "### 4. Text for tf-idf: tokenize + stopwords & punctuation removed + non-English words removed + tokens stemmed"
   ]
  },
  {
   "cell_type": "code",
   "execution_count": 15,
   "metadata": {},
   "outputs": [
    {
     "data": {
      "text/plain": [
       "['mani appear report without understand',\n",
       " 'credit look home year seen quit unauthor union access credit file sinc seem someon use person inform access cabl recogn list credit file longer live follow victim id theft pleas remov follow address oh oh oh oh oh oh oh oh oh oh oh oh',\n",
       " 'sinc work loan consult calib home look purchas new home work past would help obtain new home loan previous issu nine calib home use decept predatori attempt obtain home loan behalf knew would qualifi get explain learn reput lender qualifi purchas home loan calib provid differ home rang knew way capabl loan rang knowingli continu deceiv know sell current home rent new home provid preapprov purchas know made admit omiss ran credit twice go forward previou home sale sale last hous knew would lose deposit home afford purchas never would abl buy access sinc took loss purchas old hous lost deposit new home move unfortun owner hous forc vacat also impact hous market decept omiss addit stop correspond final told truth treat someon like famili tactic use decept obtain loan knew would afford financi emot find place live sold hous disrupt well deal homeown also financi took place addit calib home previou home loan anoth lender told receiv either qualifi pay hous realiz receiv notic counti lien hous tax sale pay pocket error still either',\n",
       " 'went loan desper move money receiv day realiz interest pa resid think interest high struggl pay month interest toward loan',\n",
       " 'hello send complaint offic resolv credit error union sent written disput union remov collect account advis letter account error collect agenc inform delet file send union disput letter letter instruct credit remov account account still union credit report pleas see']"
      ]
     },
     "execution_count": 15,
     "metadata": {},
     "output_type": "execute_result"
    }
   ],
   "source": [
    "import nltk, re, string\n",
    "import numpy as np\n",
    "from sklearn.preprocessing import normalize\n",
    "from nltk.corpus import stopwords\n",
    "from nltk.stem.porter import PorterStemmer\n",
    "\n",
    "stop_words = stopwords.words('english')\n",
    "stop_words += [\"xx\", \"xxxx\"]\n",
    "words = set(nltk.corpus.words.words())\n",
    "\n",
    "newtexts = []\n",
    "for text in texts:\n",
    "    tokens = nltk.word_tokenize(text.lower())\n",
    "    text_tokens = [token.strip() for token in tokens \\\n",
    "                   if token.strip() not in stop_words \\\n",
    "                   and token.strip() not in string.punctuation \\\n",
    "                   and token.strip() in words]\n",
    "    porter_stemmer = PorterStemmer()\n",
    "    stem_text_tokens = [porter_stemmer.stem(text_token) for text_token in text_tokens]\n",
    "    newtext = \" \".join(stem_text_tokens)\n",
    "    newtexts.append(newtext)\n",
    "    \n",
    "newtexts[0:5]"
   ]
  },
  {
   "cell_type": "markdown",
   "metadata": {},
   "source": [
    "- token amount: 5210"
   ]
  },
  {
   "cell_type": "code",
   "execution_count": 16,
   "metadata": {},
   "outputs": [
    {
     "data": {
      "text/plain": [
       "scipy.sparse.csr.csr_matrix"
      ]
     },
     "execution_count": 16,
     "metadata": {},
     "output_type": "execute_result"
    },
    {
     "data": {
      "text/plain": [
       "(87592, 5210)"
      ]
     },
     "execution_count": 16,
     "metadata": {},
     "output_type": "execute_result"
    }
   ],
   "source": [
    "from sklearn.feature_extraction.text import TfidfVectorizer\n",
    "\n",
    "tfidf_vect = TfidfVectorizer(min_df=10) \n",
    "tf_idf = tfidf_vect.fit_transform(newtexts)\n",
    "\n",
    "type(tf_idf)\n",
    "tf_idf.shape"
   ]
  },
  {
   "cell_type": "code",
   "execution_count": 17,
   "metadata": {},
   "outputs": [
    {
     "name": "stderr",
     "output_type": "stream",
     "text": [
      "C:\\Users\\a\\Anaconda3\\lib\\site-packages\\sklearn\\metrics\\classification.py:1135: UndefinedMetricWarning: Precision and F-score are ill-defined and being set to 0.0 in labels with no predicted samples.\n",
      "  'precision', 'predicted', average, warn_for)\n"
     ]
    },
    {
     "name": "stdout",
     "output_type": "stream",
     "text": [
      "                                                                                                                                                                      precision    recall  f1-score   support\n",
      "\n",
      "                                                                                                               ('Checking or savings account', 'Closing an account')       0.57      0.04      0.08       198\n",
      "                                                                                                              ('Checking or savings account', 'Managing an account')       0.37      0.71      0.48       848\n",
      "                                                                                                               ('Checking or savings account', 'Opening an account')       0.74      0.35      0.47       181\n",
      "                                                                                           ('Checking or savings account', 'Problem caused by your funds being low')       0.62      0.17      0.27       174\n",
      "                                                                     ('Checking or savings account', 'Problem with a lender or other company charging your account')       0.00      0.00      0.00       167\n",
      "                                                                                                                           ('Checking or savings account', 'others')       0.00      0.00      0.00        15\n",
      "                                                                                                            ('Credit card or prepaid card', 'Getting a credit card')       0.70      0.09      0.16       218\n",
      "                                                                                  ('Credit card or prepaid card', 'Problem with a purchase shown on your statement')       0.53      0.48      0.50       525\n",
      "                                                                                                                        ('Credit card or prepaid card', 'advertise')       0.60      0.37      0.46       217\n",
      "                                                                                                                    ('Credit card or prepaid card', 'close account')       0.54      0.13      0.21       241\n",
      "                                                                                                                             ('Credit card or prepaid card', 'fees')       0.54      0.55      0.55       421\n",
      "                                                                                                                           ('Credit card or prepaid card', 'others')       0.40      0.21      0.27       381\n",
      "                                                                                                                           ('Credit card or prepaid card', 'report')       0.00      0.00      0.00       102\n",
      "                                                                                                               ('Credit card or prepaid card', 'trouble using card')       0.40      0.28      0.33       487\n",
      "('Credit reporting, credit repair services, or other personal consumer reports', \"Problem with a credit reporting company's investigation into an existing problem\")       0.56      0.33      0.42      2657\n",
      "                                                     ('Credit reporting, credit repair services, or other personal consumer reports', 'Improper use of your report')       0.72      0.68      0.70      2296\n",
      "                                            ('Credit reporting, credit repair services, or other personal consumer reports', 'Incorrect information on your report')       0.41      0.79      0.54      4766\n",
      "                                ('Credit reporting, credit repair services, or other personal consumer reports', 'Unable to get your credit report or credit score')       0.83      0.23      0.35       253\n",
      "                                                                 ('Credit reporting, credit repair services, or other personal consumer reports', 'fraud detection')       0.67      0.49      0.57       629\n",
      "                                                                          ('Credit reporting, credit repair services, or other personal consumer reports', 'others')       0.00      0.00      0.00        79\n",
      "                                                                                                            ('Debt collection', 'Attempts to collect debt not owed')       0.42      0.53      0.47      2283\n",
      "                                                                                                                        ('Debt collection', 'Communication tactics')       0.55      0.62      0.58       664\n",
      "                                                                                                           ('Debt collection', 'False statements or representation')       0.43      0.04      0.07       587\n",
      "                                                                                ('Debt collection', 'Threatened to contact someone or share information improperly')       0.86      0.04      0.07       165\n",
      "                                                                                          ('Debt collection', 'Took or threatened to take negative or legal action')       0.40      0.18      0.25       693\n",
      "                                                                                                              ('Debt collection', 'Written notification about debt')       0.55      0.14      0.22      1011\n",
      "                                                                                             ('Money transfer, virtual currency, or money service', 'Fraud or scam')       0.78      0.05      0.09       144\n",
      "                                                                     ('Money transfer, virtual currency, or money service', 'Money was not available when promised')       0.57      0.53      0.55       178\n",
      "                                                                                                    ('Money transfer, virtual currency, or money service', 'others')       0.35      0.04      0.08       136\n",
      "                                                                                                   ('Money transfer, virtual currency, or money service', 'service')       1.00      0.02      0.03        59\n",
      "                                                                                               ('Money transfer, virtual currency, or money service', 'transcation')       0.39      0.15      0.21       163\n",
      "                                                                                                                               ('Mortgage', 'Closing on a mortgage')       0.57      0.11      0.18       248\n",
      "                                                                                                                          ('Mortgage', 'Struggling to pay mortgage')       0.66      0.77      0.71       926\n",
      "                                                                                                                      ('Mortgage', 'Trouble during payment process')       0.59      0.74      0.65      1157\n",
      "                                                                                                                                  ('Mortgage', 'apply for mortgage')       0.57      0.30      0.39       316\n",
      "                                                                                                                                              ('Mortgage', 'others')       0.00      0.00      0.00         4\n",
      "                                                                                                                                              ('Mortgage', 'report')       0.00      0.00      0.00        72\n",
      "                                                                                                                              ('loan', 'Managing the loan or lease')       0.32      0.09      0.14       265\n",
      "                                                                                                                                                 ('loan', 'contact')       0.55      0.67      0.61       936\n",
      "                                                                                                                                         ('loan', 'enexpected fees')       0.63      0.08      0.14       152\n",
      "                                                                                                                                          ('loan', 'getting a loan')       0.23      0.02      0.03       162\n",
      "                                                                                                                                                  ('loan', 'others')       0.00      0.00      0.00        69\n",
      "                                                                                                                                                 ('loan', 'payment')       0.41      0.45      0.43       869\n",
      "                                                                                                                                                  ('loan', 'report')       1.00      0.01      0.02       164\n",
      "\n",
      "                                                                                                                                                         avg / total       0.51      0.49      0.45     26278\n",
      "\n",
      "Accuracy:\n"
     ]
    },
    {
     "name": "stdout",
     "output_type": "stream",
     "text": [
      "0.4908288302\n"
     ]
    }
   ],
   "source": [
    "from sklearn.naive_bayes import MultinomialNB\n",
    "from sklearn.model_selection import train_test_split\n",
    "from sklearn.metrics import precision_recall_fscore_support\n",
    "from sklearn.metrics import classification_report\n",
    "from sklearn.metrics import accuracy_score\n",
    "\n",
    "# split dataset into train (70%) and test sets (30%)\n",
    "X_train, X_test, y_train, y_test = train_test_split(\\\n",
    "                tf_idf, target, test_size=0.3, random_state=0, stratify=target)\n",
    "\n",
    "# train a multinomial naive Bayes model using the testing data\n",
    "clf = MultinomialNB(alpha=0.1).fit(X_train, y_train)\n",
    "\n",
    "# predict the news group for the test dataset\n",
    "predicted=clf.predict(X_test)\n",
    "\n",
    "# get the list of unique labels\n",
    "labels=sorted(list(set(target)))\n",
    "\n",
    "# calculate performance metrics\n",
    "precision, recall, fscore, support=\\\n",
    "     precision_recall_fscore_support(\\\n",
    "     y_test, predicted, labels=labels)\n",
    "    \n",
    "print(classification_report\\\n",
    "      (y_test, predicted, target_names=labels))\n",
    "\n",
    "print(\"Accuracy:\")\n",
    "print(accuracy_score(y_test, predicted))"
   ]
  },
  {
   "cell_type": "markdown",
   "metadata": {},
   "source": [
    "### Conclusion: \n",
    "### Removing stopwords (plus \"xx\" \"xxxx\") and punctuations can lead to the best performance of the  Naive Bayes model"
   ]
  },
  {
   "cell_type": "code",
   "execution_count": null,
   "metadata": {
    "collapsed": true
   },
   "outputs": [],
   "source": []
  }
 ],
 "metadata": {
  "kernelspec": {
   "display_name": "Python 3",
   "language": "python",
   "name": "python3"
  },
  "language_info": {
   "codemirror_mode": {
    "name": "ipython",
    "version": 3
   },
   "file_extension": ".py",
   "mimetype": "text/x-python",
   "name": "python",
   "nbconvert_exporter": "python",
   "pygments_lexer": "ipython3",
   "version": "3.6.1"
  }
 },
 "nbformat": 4,
 "nbformat_minor": 2
}
