{
 "cells": [
  {
   "cell_type": "code",
   "execution_count": 1,
   "metadata": {
    "collapsed": true
   },
   "outputs": [],
   "source": [
    "import numpy as np\n",
    "import pandas as pd"
   ]
  },
  {
   "cell_type": "code",
   "execution_count": 2,
   "metadata": {},
   "outputs": [
    {
     "data": {
      "text/html": [
       "<div>\n",
       "<style scoped>\n",
       "    .dataframe tbody tr th:only-of-type {\n",
       "        vertical-align: middle;\n",
       "    }\n",
       "\n",
       "    .dataframe tbody tr th {\n",
       "        vertical-align: top;\n",
       "    }\n",
       "\n",
       "    .dataframe thead th {\n",
       "        text-align: right;\n",
       "    }\n",
       "</style>\n",
       "<table border=\"1\" class=\"dataframe\">\n",
       "  <thead>\n",
       "    <tr style=\"text-align: right;\">\n",
       "      <th></th>\n",
       "      <th>Unnamed: 0</th>\n",
       "      <th>company</th>\n",
       "      <th>company_public_response</th>\n",
       "      <th>company_response</th>\n",
       "      <th>complaint_id</th>\n",
       "      <th>narratives</th>\n",
       "      <th>consumer_consent_provided</th>\n",
       "      <th>consumer_disputed</th>\n",
       "      <th>date_received</th>\n",
       "      <th>date_sent_to_company</th>\n",
       "      <th>...</th>\n",
       "      <th>state</th>\n",
       "      <th>sub_issue</th>\n",
       "      <th>sub_product</th>\n",
       "      <th>submitted_via</th>\n",
       "      <th>tags</th>\n",
       "      <th>timely</th>\n",
       "      <th>zip_code</th>\n",
       "      <th>Qtr</th>\n",
       "      <th>product_new</th>\n",
       "      <th>label</th>\n",
       "    </tr>\n",
       "  </thead>\n",
       "  <tbody>\n",
       "    <tr>\n",
       "      <th>0</th>\n",
       "      <td>0</td>\n",
       "      <td>Experian Information Solutions Inc.</td>\n",
       "      <td>Company has responded to the consumer and the ...</td>\n",
       "      <td>Closed with explanation</td>\n",
       "      <td>2788944</td>\n",
       "      <td>There are many mistakes appear in my report wi...</td>\n",
       "      <td>Consent provided</td>\n",
       "      <td>NaN</td>\n",
       "      <td>2018-01-20</td>\n",
       "      <td>2018-01-20</td>\n",
       "      <td>...</td>\n",
       "      <td>MD</td>\n",
       "      <td>Account information incorrect</td>\n",
       "      <td>Credit reporting</td>\n",
       "      <td>Web</td>\n",
       "      <td>NaN</td>\n",
       "      <td>Yes</td>\n",
       "      <td>212XX</td>\n",
       "      <td>2018Q1</td>\n",
       "      <td>Credit reporting, credit repair services, or o...</td>\n",
       "      <td>('Credit reporting, credit repair services, or...</td>\n",
       "    </tr>\n",
       "    <tr>\n",
       "      <th>1</th>\n",
       "      <td>1</td>\n",
       "      <td>TRANSUNION INTERMEDIATE HOLDINGS, INC.</td>\n",
       "      <td>Company has responded to the consumer and the ...</td>\n",
       "      <td>Closed with explanation</td>\n",
       "      <td>2773990</td>\n",
       "      <td>I was pulling my credit to looking into buying...</td>\n",
       "      <td>Consent provided</td>\n",
       "      <td>NaN</td>\n",
       "      <td>2018-01-06</td>\n",
       "      <td>2018-01-06</td>\n",
       "      <td>...</td>\n",
       "      <td>FL</td>\n",
       "      <td>Information belongs to someone else</td>\n",
       "      <td>Credit reporting</td>\n",
       "      <td>Web</td>\n",
       "      <td>NaN</td>\n",
       "      <td>Yes</td>\n",
       "      <td>347XX</td>\n",
       "      <td>2018Q1</td>\n",
       "      <td>Credit reporting, credit repair services, or o...</td>\n",
       "      <td>('Credit reporting, credit repair services, or...</td>\n",
       "    </tr>\n",
       "    <tr>\n",
       "      <th>2</th>\n",
       "      <td>2</td>\n",
       "      <td>Caliber Home Loans, Inc.</td>\n",
       "      <td>NaN</td>\n",
       "      <td>Closed with explanation</td>\n",
       "      <td>2737995</td>\n",
       "      <td>Since XXXX XXXX, I was working with a loan con...</td>\n",
       "      <td>Consent provided</td>\n",
       "      <td>NaN</td>\n",
       "      <td>2017-11-26</td>\n",
       "      <td>2017-11-26</td>\n",
       "      <td>...</td>\n",
       "      <td>MD</td>\n",
       "      <td>NaN</td>\n",
       "      <td>Conventional home mortgage</td>\n",
       "      <td>Web</td>\n",
       "      <td>NaN</td>\n",
       "      <td>Yes</td>\n",
       "      <td>208XX</td>\n",
       "      <td>2017Q4</td>\n",
       "      <td>Mortgage</td>\n",
       "      <td>('Mortgage', 'apply for mortgage')</td>\n",
       "    </tr>\n",
       "    <tr>\n",
       "      <th>3</th>\n",
       "      <td>3</td>\n",
       "      <td>Select Management Resources, LLC</td>\n",
       "      <td>Company believes it acted appropriately as aut...</td>\n",
       "      <td>Closed with non-monetary relief</td>\n",
       "      <td>2674806</td>\n",
       "      <td>On XX/XX/XXXX I went to NTL in Delaware for a ...</td>\n",
       "      <td>Consent provided</td>\n",
       "      <td>NaN</td>\n",
       "      <td>2017-09-15</td>\n",
       "      <td>2017-09-15</td>\n",
       "      <td>...</td>\n",
       "      <td>PA</td>\n",
       "      <td>NaN</td>\n",
       "      <td>Title loan</td>\n",
       "      <td>Web</td>\n",
       "      <td>NaN</td>\n",
       "      <td>Yes</td>\n",
       "      <td>190XX</td>\n",
       "      <td>2017Q3</td>\n",
       "      <td>Loan</td>\n",
       "      <td>('loan', 'payment')</td>\n",
       "    </tr>\n",
       "    <tr>\n",
       "      <th>4</th>\n",
       "      <td>4</td>\n",
       "      <td>TRANSUNION INTERMEDIATE HOLDINGS, INC.</td>\n",
       "      <td>Company has responded to the consumer and the ...</td>\n",
       "      <td>Closed with non-monetary relief</td>\n",
       "      <td>2683460</td>\n",
       "      <td>Hello CFPB, I am sending this complaint to you...</td>\n",
       "      <td>Consent provided</td>\n",
       "      <td>NaN</td>\n",
       "      <td>2017-09-25</td>\n",
       "      <td>2017-09-25</td>\n",
       "      <td>...</td>\n",
       "      <td>MD</td>\n",
       "      <td>Their investigation did not fix an error on yo...</td>\n",
       "      <td>Credit reporting</td>\n",
       "      <td>Web</td>\n",
       "      <td>NaN</td>\n",
       "      <td>Yes</td>\n",
       "      <td>212XX</td>\n",
       "      <td>2017Q3</td>\n",
       "      <td>Credit reporting, credit repair services, or o...</td>\n",
       "      <td>('Credit reporting, credit repair services, or...</td>\n",
       "    </tr>\n",
       "  </tbody>\n",
       "</table>\n",
       "<p>5 rows × 22 columns</p>\n",
       "</div>"
      ],
      "text/plain": [
       "   Unnamed: 0                                 company  \\\n",
       "0           0     Experian Information Solutions Inc.   \n",
       "1           1  TRANSUNION INTERMEDIATE HOLDINGS, INC.   \n",
       "2           2                Caliber Home Loans, Inc.   \n",
       "3           3        Select Management Resources, LLC   \n",
       "4           4  TRANSUNION INTERMEDIATE HOLDINGS, INC.   \n",
       "\n",
       "                             company_public_response  \\\n",
       "0  Company has responded to the consumer and the ...   \n",
       "1  Company has responded to the consumer and the ...   \n",
       "2                                                NaN   \n",
       "3  Company believes it acted appropriately as aut...   \n",
       "4  Company has responded to the consumer and the ...   \n",
       "\n",
       "                  company_response  complaint_id  \\\n",
       "0          Closed with explanation       2788944   \n",
       "1          Closed with explanation       2773990   \n",
       "2          Closed with explanation       2737995   \n",
       "3  Closed with non-monetary relief       2674806   \n",
       "4  Closed with non-monetary relief       2683460   \n",
       "\n",
       "                                          narratives  \\\n",
       "0  There are many mistakes appear in my report wi...   \n",
       "1  I was pulling my credit to looking into buying...   \n",
       "2  Since XXXX XXXX, I was working with a loan con...   \n",
       "3  On XX/XX/XXXX I went to NTL in Delaware for a ...   \n",
       "4  Hello CFPB, I am sending this complaint to you...   \n",
       "\n",
       "  consumer_consent_provided  consumer_disputed date_received  \\\n",
       "0          Consent provided                NaN    2018-01-20   \n",
       "1          Consent provided                NaN    2018-01-06   \n",
       "2          Consent provided                NaN    2017-11-26   \n",
       "3          Consent provided                NaN    2017-09-15   \n",
       "4          Consent provided                NaN    2017-09-25   \n",
       "\n",
       "  date_sent_to_company                        ...                          \\\n",
       "0           2018-01-20                        ...                           \n",
       "1           2018-01-06                        ...                           \n",
       "2           2017-11-26                        ...                           \n",
       "3           2017-09-15                        ...                           \n",
       "4           2017-09-25                        ...                           \n",
       "\n",
       "  state                                          sub_issue  \\\n",
       "0    MD                      Account information incorrect   \n",
       "1    FL                Information belongs to someone else   \n",
       "2    MD                                                NaN   \n",
       "3    PA                                                NaN   \n",
       "4    MD  Their investigation did not fix an error on yo...   \n",
       "\n",
       "                  sub_product submitted_via tags timely zip_code     Qtr  \\\n",
       "0            Credit reporting           Web  NaN    Yes    212XX  2018Q1   \n",
       "1            Credit reporting           Web  NaN    Yes    347XX  2018Q1   \n",
       "2  Conventional home mortgage           Web  NaN    Yes    208XX  2017Q4   \n",
       "3                  Title loan           Web  NaN    Yes    190XX  2017Q3   \n",
       "4            Credit reporting           Web  NaN    Yes    212XX  2017Q3   \n",
       "\n",
       "                                         product_new  \\\n",
       "0  Credit reporting, credit repair services, or o...   \n",
       "1  Credit reporting, credit repair services, or o...   \n",
       "2                                           Mortgage   \n",
       "3                                               Loan   \n",
       "4  Credit reporting, credit repair services, or o...   \n",
       "\n",
       "                                               label  \n",
       "0  ('Credit reporting, credit repair services, or...  \n",
       "1  ('Credit reporting, credit repair services, or...  \n",
       "2                 ('Mortgage', 'apply for mortgage')  \n",
       "3                                ('loan', 'payment')  \n",
       "4  ('Credit reporting, credit repair services, or...  \n",
       "\n",
       "[5 rows x 22 columns]"
      ]
     },
     "execution_count": 2,
     "metadata": {},
     "output_type": "execute_result"
    }
   ],
   "source": [
    "df = pd.read_csv(\"version2.csv\")\n",
    "df.head()"
   ]
  },
  {
   "cell_type": "code",
   "execution_count": 3,
   "metadata": {},
   "outputs": [
    {
     "data": {
      "text/plain": [
       "(87592, 22)"
      ]
     },
     "execution_count": 3,
     "metadata": {},
     "output_type": "execute_result"
    }
   ],
   "source": [
    "df.shape"
   ]
  },
  {
   "cell_type": "code",
   "execution_count": 4,
   "metadata": {
    "collapsed": true
   },
   "outputs": [],
   "source": [
    "text = df['narratives'].tolist()"
   ]
  },
  {
   "cell_type": "code",
   "execution_count": 5,
   "metadata": {
    "collapsed": true
   },
   "outputs": [],
   "source": [
    "from sklearn.feature_extraction.text import TfidfVectorizer"
   ]
  },
  {
   "cell_type": "code",
   "execution_count": 7,
   "metadata": {},
   "outputs": [],
   "source": [
    "import nltk, re, string\n",
    "from nltk.corpus import stopwords\n",
    "from nltk.stem.porter import PorterStemmer\n",
    "stop_words = stopwords.words('english')\n",
    "words = set(nltk.corpus.words.words())\n",
    "\n",
    "def get_doc_tokens(doc):\n",
    "    lower = \" \".join([w for w in doc.split() if len(w)>1]).lower()\n",
    "    tokens = nltk.word_tokenize(lower)\n",
    "\n",
    "    #Extract all tokens which are not in stop_words and punctuation\n",
    "    my_tokens = [token.strip() for token in tokens\\\n",
    "             if token.strip() not in stop_words\\\n",
    "             and token.strip() not in string.punctuation]\n",
    "    \n",
    "    #Remove non-English words\n",
    "    my_tokens1=[token for token in my_tokens if token in words]\n",
    "    \n",
    "  \n",
    "    #Stemming all tokens\n",
    "    porter_stemmer = PorterStemmer()\n",
    "    stem_tokens = [porter_stemmer.stem(my_token) for my_token in my_tokens1]\n",
    "\n",
    "      #get the token_count\n",
    "    token_count = nltk.FreqDist(stem_tokens)\n",
    "    \n",
    "    return token_count"
   ]
  },
  {
   "cell_type": "code",
   "execution_count": 8,
   "metadata": {},
   "outputs": [],
   "source": [
    "tfidf_vect = TfidfVectorizer(tokenizer = get_doc_tokens)\n",
    "dtm = tfidf_vect.fit_transform(text)"
   ]
  },
  {
   "cell_type": "code",
   "execution_count": 9,
   "metadata": {},
   "outputs": [
    {
     "data": {
      "text/plain": [
       "(87592, 11299)"
      ]
     },
     "execution_count": 9,
     "metadata": {},
     "output_type": "execute_result"
    }
   ],
   "source": [
    "dtm.shape"
   ]
  },
  {
   "cell_type": "code",
   "execution_count": 10,
   "metadata": {},
   "outputs": [
    {
     "data": {
      "text/plain": [
       "87592"
      ]
     },
     "execution_count": 10,
     "metadata": {},
     "output_type": "execute_result"
    }
   ],
   "source": [
    "label = df['label'].tolist()\n",
    "len(label)"
   ]
  },
  {
   "cell_type": "code",
   "execution_count": 11,
   "metadata": {
    "collapsed": true
   },
   "outputs": [],
   "source": [
    "all_label = list(set(label))"
   ]
  },
  {
   "cell_type": "code",
   "execution_count": 12,
   "metadata": {
    "collapsed": true
   },
   "outputs": [],
   "source": [
    "from sklearn.model_selection import train_test_split\n",
    "from sklearn.metrics import precision_recall_fscore_support\n",
    "from sklearn.metrics import classification_report\n",
    "\n",
    "X_train, X_test, y_train, y_test = train_test_split(dtm, label,\\\n",
    "                                    test_size = 0.3, stratify = label,\\\n",
    "                                                    random_state = 123)"
   ]
  },
  {
   "cell_type": "code",
   "execution_count": 13,
   "metadata": {
    "scrolled": true
   },
   "outputs": [
    {
     "name": "stdout",
     "output_type": "stream",
     "text": [
      "                                                                                                                                                                      precision    recall  f1-score   support\n",
      "\n",
      "                                                                                                            ('Credit card or prepaid card', 'Getting a credit card')       0.31      0.21      0.25       198\n",
      "                                                                                                                           ('Credit card or prepaid card', 'others')       0.45      0.56      0.50       848\n",
      "                                                                                                                    ('Credit card or prepaid card', 'close account')       0.50      0.38      0.43       181\n",
      "                                                                                                                              ('loan', 'Managing the loan or lease')       0.43      0.33      0.37       174\n",
      "                                                                                                                               ('Mortgage', 'Closing on a mortgage')       0.20      0.07      0.11       167\n",
      "                                                                                                                             ('Credit card or prepaid card', 'fees')       0.00      0.00      0.00        15\n",
      "                                ('Credit reporting, credit repair services, or other personal consumer reports', 'Unable to get your credit report or credit score')       0.37      0.23      0.29       218\n",
      "                                                                                  ('Credit card or prepaid card', 'Problem with a purchase shown on your statement')       0.51      0.53      0.52       525\n",
      "                                                                 ('Credit reporting, credit repair services, or other personal consumer reports', 'fraud detection')       0.46      0.42      0.44       217\n",
      "                                                                                                              ('Checking or savings account', 'Managing an account')       0.37      0.31      0.34       241\n",
      "                                                                                               ('Money transfer, virtual currency, or money service', 'transcation')       0.49      0.55      0.52       421\n",
      "                                                                                             ('Money transfer, virtual currency, or money service', 'Fraud or scam')       0.35      0.25      0.29       381\n",
      "                                                     ('Credit reporting, credit repair services, or other personal consumer reports', 'Improper use of your report')       0.42      0.10      0.16       102\n",
      "                                                                                                               ('Checking or savings account', 'Closing an account')       0.35      0.32      0.33       487\n",
      "                                                                                                                                              ('Mortgage', 'others')       0.54      0.45      0.49      2657\n",
      "                                                                                                            ('Debt collection', 'Attempts to collect debt not owed')       0.68      0.81      0.74      2296\n",
      "                                                                                                    ('Money transfer, virtual currency, or money service', 'others')       0.56      0.70      0.62      4766\n",
      "                                                                                                                                         ('loan', 'enexpected fees')       0.61      0.54      0.58       253\n",
      "                                                                                                                                          ('loan', 'getting a loan')       0.64      0.55      0.59       629\n",
      "                                                                          ('Credit reporting, credit repair services, or other personal consumer reports', 'others')       0.20      0.01      0.02        79\n",
      "                                                                                                                          ('Mortgage', 'Struggling to pay mortgage')       0.47      0.54      0.50      2283\n",
      "                                                                                ('Debt collection', 'Threatened to contact someone or share information improperly')       0.51      0.60      0.55       664\n",
      "                                                                                                               ('Checking or savings account', 'Opening an account')       0.31      0.13      0.18       587\n",
      "('Credit reporting, credit repair services, or other personal consumer reports', \"Problem with a credit reporting company's investigation into an existing problem\")       0.31      0.17      0.22       165\n",
      "                                            ('Credit reporting, credit repair services, or other personal consumer reports', 'Incorrect information on your report')       0.38      0.29      0.33       693\n",
      "                                                                                                                                  ('Mortgage', 'apply for mortgage')       0.45      0.36      0.40      1011\n",
      "                                                                                                                        ('Debt collection', 'Communication tactics')       0.33      0.21      0.25       144\n",
      "                                                                                                   ('Money transfer, virtual currency, or money service', 'service')       0.50      0.60      0.54       178\n",
      "                                                                                                                           ('Checking or savings account', 'others')       0.17      0.09      0.12       136\n",
      "                                                                                          ('Debt collection', 'Took or threatened to take negative or legal action')       0.25      0.10      0.14        59\n",
      "                                                                     ('Checking or savings account', 'Problem with a lender or other company charging your account')       0.26      0.17      0.20       163\n",
      "                                                                                                                           ('Credit card or prepaid card', 'report')       0.34      0.25      0.29       248\n",
      "                                                                                                                                                  ('loan', 'report')       0.69      0.76      0.72       926\n",
      "                                                                                                              ('Debt collection', 'Written notification about debt')       0.61      0.70      0.65      1157\n",
      "                                                                     ('Money transfer, virtual currency, or money service', 'Money was not available when promised')       0.47      0.37      0.41       316\n",
      "                                                                                                                                                 ('loan', 'contact')       1.00      0.25      0.40         4\n",
      "                                                                                                           ('Debt collection', 'False statements or representation')       0.00      0.00      0.00        72\n",
      "                                                                                                                      ('Mortgage', 'Trouble during payment process')       0.41      0.27      0.32       265\n",
      "                                                                                                                                              ('Mortgage', 'report')       0.54      0.64      0.59       936\n",
      "                                                                                                                        ('Credit card or prepaid card', 'advertise')       0.43      0.33      0.37       152\n",
      "                                                                                                                                                  ('loan', 'others')       0.26      0.10      0.14       162\n",
      "                                                                                           ('Checking or savings account', 'Problem caused by your funds being low')       0.08      0.01      0.02        69\n",
      "                                                                                                                                                 ('loan', 'payment')       0.43      0.42      0.42       869\n",
      "                                                                                                               ('Credit card or prepaid card', 'trouble using card')       0.42      0.06      0.11       164\n",
      "\n",
      "                                                                                                                                                         avg / total       0.51      0.53      0.51     26278\n",
      "\n"
     ]
    }
   ],
   "source": [
    "from sklearn.model_selection import cross_validate\n",
    "from sklearn import svm \n",
    "\n",
    "metrics = ['precision_macro','recall_macro','f1_macro']\n",
    "clf = svm.LinearSVC().fit(X_train, y_train)\n",
    "predicted = clf.predict(X_test)\n",
    "precision, recall, fscore, support = precision_recall_fscore_support(y_test, predicted, labels = all_label)\n",
    "print(classification_report(y_test, predicted, target_names = all_label))"
   ]
  },
  {
   "cell_type": "code",
   "execution_count": null,
   "metadata": {
    "scrolled": false
   },
   "outputs": [
    {
     "data": {
      "text/plain": [
       "array([\"('Debt collection', 'Attempts to collect debt not owed')\"], \n",
       "      dtype='<U164')"
      ]
     },
     "execution_count": 14,
     "metadata": {},
     "output_type": "execute_result"
    }
   ],
   "source": [
    "new_doc = [\"I order XXXX internet. They installed internet and a phone line. I told them I don't need a phone line and never ordered one. They said they will removed the phone service which they did but a year later I got collection bill from I C SYSTEM INC stating I owe XXXX. I contacted XXXX about it and was promised they will notify I C SYSTEM INC to stop notification. Notification of collection did stop but it still show up on my credit. every time I called the promise it will be removed but it's still there affecting my credit score\"]\n",
    "X_new_tfidf = tfidf_vect.transform(new_doc)\n",
    "pred_new = clf.predict(X_new_tfidf)\n",
    "pred_new"
   ]
  },
  {
   "cell_type": "code",
   "execution_count": null,
   "metadata": {},
   "outputs": [],
   "source": [
    "new_doc = list(str(input(\"input: \")))\n",
    "X_new_tfidf = tfidf_vect.transform(new_doc)\n",
    "X_new_tfidf.shape\n",
    "pred_new = clf.predict(X_new_tfidf)\n",
    "pred_new"
   ]
  },
  {
   "cell_type": "markdown",
   "metadata": {},
   "source": [
    "### Grid Search"
   ]
  },
  {
   "cell_type": "code",
   "execution_count": null,
   "metadata": {
    "collapsed": true
   },
   "outputs": [],
   "source": [
    "from sklearn.pipeline import Pipeline\n",
    "from sklearn.model_selection import GridSearchCV\n",
    "\n",
    "text_clf = Pipeline([('tfidf',TfidfVectorizer()),\n",
    "                    ('clf',svm.LinearSVC())])\n",
    "\n",
    "parameters = {'tfidf__min_df':[10, 50],\n",
    "             'tfidf__stop_words':[None,\"english\"],\n",
    "             \"clf__C\":[1, 10, 100, 1000]}\n",
    "gs_clf = GridSearchCV(text_clf, param_grid = parameters,\\\n",
    "                     scoring = \"f1_macro\", cv = 5)\n",
    "gs_clf = gs_clf.fit(text,label)\n",
    "for param_name in gs_clf.best_params_:\n",
    "    print(param_name,\": \", gs_clf.best_params_[param_name])\n",
    "print(\"best f1 score: \", gs_clf.best_score_)\n",
    "warnings.filterwarnings('ignore')"
   ]
  },
  {
   "cell_type": "code",
   "execution_count": null,
   "metadata": {},
   "outputs": [],
   "source": [
    "df[df['label']==\"('Checking or savings account', 'Managing an account')\"]['narratives'].tolist()[3] "
   ]
  },
  {
   "cell_type": "markdown",
   "metadata": {},
   "source": [
    "### Cross Validation"
   ]
  },
  {
   "cell_type": "code",
   "execution_count": null,
   "metadata": {},
   "outputs": [],
   "source": [
    "from sklearn.model_selection import train_test_split, cross_validate\n",
    "\n",
    "clf2 = svm.LinearSVC()\n",
    "cv = cross_validate(clf2,dtm,label,scoring = metrics, cv = 5)\n",
    "cv['test_f1_macro']"
   ]
  },
  {
   "cell_type": "code",
   "execution_count": null,
   "metadata": {},
   "outputs": [],
   "source": [
    "np.mean(cv['test_f1_macro'])"
   ]
  },
  {
   "cell_type": "markdown",
   "metadata": {},
   "source": [
    "### TruncatedSVD "
   ]
  },
  {
   "cell_type": "code",
   "execution_count": null,
   "metadata": {
    "collapsed": true
   },
   "outputs": [],
   "source": [
    "#Try TruncatedSVD to reduce the dimension\n",
    "from sklearn.decomposition import TruncatedSVD\n",
    "from sklearn.random_projection import sparse_random_matrix\n",
    "svd = TruncatedSVD(n_components = 5000).fit(dtm.T)"
   ]
  },
  {
   "cell_type": "code",
   "execution_count": null,
   "metadata": {},
   "outputs": [],
   "source": [
    "#Display the reduced dataset\n",
    "svd_df = pd.DataFrame(svd.components_.T)\n",
    "svd_df"
   ]
  }
 ],
 "metadata": {
  "kernelspec": {
   "display_name": "Python 3",
   "language": "python",
   "name": "python3"
  },
  "language_info": {
   "codemirror_mode": {
    "name": "ipython",
    "version": 3
   },
   "file_extension": ".py",
   "mimetype": "text/x-python",
   "name": "python",
   "nbconvert_exporter": "python",
   "pygments_lexer": "ipython3",
   "version": "3.6.4"
  }
 },
 "nbformat": 4,
 "nbformat_minor": 2
}
