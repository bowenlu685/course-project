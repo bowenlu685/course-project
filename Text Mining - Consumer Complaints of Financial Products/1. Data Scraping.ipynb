{
 "cells": [
  {
   "cell_type": "markdown",
   "metadata": {},
   "source": [
    "#### This notebook is used for Stevens BIA660 - Web Analytics project, scrap data from Consumer  Financial Protection Bureau. "
   ]
  },
  {
   "cell_type": "code",
   "execution_count": 81,
   "metadata": {
    "collapsed": true
   },
   "outputs": [],
   "source": [
    "import pandas as pd\n",
    "import matplotlib.pyplot as plt\n",
    "import seaborn as sns\n",
    "\n",
    "#import package to scrap data\n",
    "from sodapy import Socrata"
   ]
  },
  {
   "cell_type": "code",
   "execution_count": 31,
   "metadata": {
    "collapsed": true
   },
   "outputs": [],
   "source": [
    "client = Socrata(\"data.consumerfinance.gov\", \"934hxEgMvrBOxp912rfrcodXE\",\\\n",
    "                username = \"xinlian1201@gmail.com\", password = \"HAPPY9510hxl**\")\n",
    "results = client.get(\"jhzv-w97w\", limit = 99999999)\n",
    "df = pd.DataFrame.from_records(results)\n",
    "#df.to_csv(\"ComsumerComplaints.csv\")"
   ]
  },
  {
   "cell_type": "markdown",
   "metadata": {},
   "source": [
    "- In total, we have 985957 records including all categories. "
   ]
  },
  {
   "cell_type": "code",
   "execution_count": 65,
   "metadata": {
    "scrolled": true
   },
   "outputs": [
    {
     "data": {
      "text/plain": [
       "(985957, 18)"
      ]
     },
     "execution_count": 65,
     "metadata": {},
     "output_type": "execute_result"
    }
   ],
   "source": [
    "df.shape\n",
    "#df.head()"
   ]
  },
  {
   "cell_type": "code",
   "execution_count": 36,
   "metadata": {
    "collapsed": true
   },
   "outputs": [],
   "source": [
    "#save a copy of raw data in case of further use\n",
    "raw_df = df.copy()"
   ]
  },
  {
   "cell_type": "code",
   "execution_count": 63,
   "metadata": {},
   "outputs": [
    {
     "data": {
      "text/plain": [
       "(256666, 18)"
      ]
     },
     "execution_count": 63,
     "metadata": {},
     "output_type": "execute_result"
    }
   ],
   "source": [
    "#rename the complaint text column to \"narratives\"\n",
    "raw_df.rename(columns = {'complaint_what_happened':'narratives'},inplace = True)\n",
    "raw_df.head()\n",
    "\n",
    "#keep narratives which are not null\n",
    "df1 = raw_df[~raw_df['narratives'].isnull()]\n",
    "df1.shape"
   ]
  },
  {
   "cell_type": "markdown",
   "metadata": {},
   "source": [
    "- After removing all NA/N records in \"narrative\" columns, we have 25666 records in total."
   ]
  },
  {
   "cell_type": "code",
   "execution_count": 70,
   "metadata": {
    "collapsed": true
   },
   "outputs": [],
   "source": [
    "#duplicate narratives\n",
    "#df1[df1.duplicated('narratives',keep = False)]"
   ]
  },
  {
   "cell_type": "code",
   "execution_count": 69,
   "metadata": {},
   "outputs": [
    {
     "data": {
      "text/plain": [
       "(248625, 18)"
      ]
     },
     "execution_count": 69,
     "metadata": {},
     "output_type": "execute_result"
    }
   ],
   "source": [
    "#remove duplicate narratives but keep the first one\n",
    "df2 = df1.drop_duplicates('narratives',keep = \"first\")\n",
    "df2.shape"
   ]
  },
  {
   "cell_type": "markdown",
   "metadata": {},
   "source": [
    "- After removing duplicate records, we have 248615 records in total."
   ]
  },
  {
   "cell_type": "code",
   "execution_count": 117,
   "metadata": {},
   "outputs": [
    {
     "data": {
      "text/html": [
       "<div>\n",
       "<style>\n",
       "    .dataframe thead tr:only-child th {\n",
       "        text-align: right;\n",
       "    }\n",
       "\n",
       "    .dataframe thead th {\n",
       "        text-align: left;\n",
       "    }\n",
       "\n",
       "    .dataframe tbody tr th {\n",
       "        vertical-align: top;\n",
       "    }\n",
       "</style>\n",
       "<table border=\"1\" class=\"dataframe\">\n",
       "  <thead>\n",
       "    <tr style=\"text-align: right;\">\n",
       "      <th></th>\n",
       "      <th>company</th>\n",
       "      <th>company_public_response</th>\n",
       "      <th>company_response</th>\n",
       "      <th>complaint_id</th>\n",
       "      <th>narratives</th>\n",
       "      <th>consumer_consent_provided</th>\n",
       "      <th>consumer_disputed</th>\n",
       "      <th>date_received</th>\n",
       "      <th>date_sent_to_company</th>\n",
       "      <th>issue</th>\n",
       "      <th>product</th>\n",
       "      <th>state</th>\n",
       "      <th>sub_issue</th>\n",
       "      <th>sub_product</th>\n",
       "      <th>submitted_via</th>\n",
       "      <th>tags</th>\n",
       "      <th>timely</th>\n",
       "      <th>zip_code</th>\n",
       "    </tr>\n",
       "  </thead>\n",
       "  <tbody>\n",
       "    <tr>\n",
       "      <th>2</th>\n",
       "      <td>Alpine Credit, Inc</td>\n",
       "      <td>Company disputes the facts presented in the co...</td>\n",
       "      <td>Closed with explanation</td>\n",
       "      <td>2383241</td>\n",
       "      <td>I have not been contacted about this negative ...</td>\n",
       "      <td>Consent provided</td>\n",
       "      <td>No</td>\n",
       "      <td>2017-03-13T00:00:00.000</td>\n",
       "      <td>2017-03-15T00:00:00.000</td>\n",
       "      <td>Cont'd attempts collect debt not owed</td>\n",
       "      <td>Debt collection</td>\n",
       "      <td>AR</td>\n",
       "      <td>Debt was paid</td>\n",
       "      <td>I do not know</td>\n",
       "      <td>Web</td>\n",
       "      <td>NaN</td>\n",
       "      <td>No</td>\n",
       "      <td>729XX</td>\n",
       "    </tr>\n",
       "    <tr>\n",
       "      <th>22</th>\n",
       "      <td>TRANSUNION INTERMEDIATE HOLDINGS, INC.</td>\n",
       "      <td>Company has responded to the consumer and the ...</td>\n",
       "      <td>Closed with explanation</td>\n",
       "      <td>2773990</td>\n",
       "      <td>I was pulling my credit to looking into buying...</td>\n",
       "      <td>Consent provided</td>\n",
       "      <td>N/A</td>\n",
       "      <td>2018-01-06T00:00:00.000</td>\n",
       "      <td>2018-01-06T00:00:00.000</td>\n",
       "      <td>Incorrect information on your report</td>\n",
       "      <td>Credit reporting, credit repair services, or o...</td>\n",
       "      <td>FL</td>\n",
       "      <td>Information belongs to someone else</td>\n",
       "      <td>Credit reporting</td>\n",
       "      <td>Web</td>\n",
       "      <td>NaN</td>\n",
       "      <td>Yes</td>\n",
       "      <td>347XX</td>\n",
       "    </tr>\n",
       "    <tr>\n",
       "      <th>30</th>\n",
       "      <td>BANK OF AMERICA, NATIONAL ASSOCIATION</td>\n",
       "      <td>Company has responded to the consumer and the ...</td>\n",
       "      <td>Closed with explanation</td>\n",
       "      <td>2412744</td>\n",
       "      <td>I bought a money order from XXXX XXXX to pay a...</td>\n",
       "      <td>Consent provided</td>\n",
       "      <td>No</td>\n",
       "      <td>2017-03-31T00:00:00.000</td>\n",
       "      <td>2017-04-03T00:00:00.000</td>\n",
       "      <td>Lost or stolen money order</td>\n",
       "      <td>Other financial service</td>\n",
       "      <td>NY</td>\n",
       "      <td>NaN</td>\n",
       "      <td>Money order</td>\n",
       "      <td>Web</td>\n",
       "      <td>NaN</td>\n",
       "      <td>Yes</td>\n",
       "      <td>100XX</td>\n",
       "    </tr>\n",
       "    <tr>\n",
       "      <th>41</th>\n",
       "      <td>Caliber Home Loans, Inc.</td>\n",
       "      <td>NaN</td>\n",
       "      <td>Closed with explanation</td>\n",
       "      <td>2737995</td>\n",
       "      <td>Since XXXX XXXX, I was working with a loan con...</td>\n",
       "      <td>Consent provided</td>\n",
       "      <td>N/A</td>\n",
       "      <td>2017-11-26T00:00:00.000</td>\n",
       "      <td>2017-11-26T00:00:00.000</td>\n",
       "      <td>Applying for a mortgage or refinancing an exis...</td>\n",
       "      <td>Mortgage</td>\n",
       "      <td>MD</td>\n",
       "      <td>NaN</td>\n",
       "      <td>Conventional home mortgage</td>\n",
       "      <td>Web</td>\n",
       "      <td>NaN</td>\n",
       "      <td>Yes</td>\n",
       "      <td>208XX</td>\n",
       "    </tr>\n",
       "    <tr>\n",
       "      <th>47</th>\n",
       "      <td>BANK OF AMERICA, NATIONAL ASSOCIATION</td>\n",
       "      <td>Company has responded to the consumer and the ...</td>\n",
       "      <td>Closed with monetary relief</td>\n",
       "      <td>2420310</td>\n",
       "      <td>My business debit cards were stolen from my ma...</td>\n",
       "      <td>Consent provided</td>\n",
       "      <td>No</td>\n",
       "      <td>2017-04-05T00:00:00.000</td>\n",
       "      <td>2017-04-05T00:00:00.000</td>\n",
       "      <td>Identity theft / Fraud / Embezzlement</td>\n",
       "      <td>Credit card</td>\n",
       "      <td>CA</td>\n",
       "      <td>NaN</td>\n",
       "      <td>NaN</td>\n",
       "      <td>Web</td>\n",
       "      <td>NaN</td>\n",
       "      <td>Yes</td>\n",
       "      <td>958XX</td>\n",
       "    </tr>\n",
       "  </tbody>\n",
       "</table>\n",
       "</div>"
      ],
      "text/plain": [
       "                                   company  \\\n",
       "2                       Alpine Credit, Inc   \n",
       "22  TRANSUNION INTERMEDIATE HOLDINGS, INC.   \n",
       "30   BANK OF AMERICA, NATIONAL ASSOCIATION   \n",
       "41                Caliber Home Loans, Inc.   \n",
       "47   BANK OF AMERICA, NATIONAL ASSOCIATION   \n",
       "\n",
       "                              company_public_response  \\\n",
       "2   Company disputes the facts presented in the co...   \n",
       "22  Company has responded to the consumer and the ...   \n",
       "30  Company has responded to the consumer and the ...   \n",
       "41                                                NaN   \n",
       "47  Company has responded to the consumer and the ...   \n",
       "\n",
       "               company_response complaint_id  \\\n",
       "2       Closed with explanation      2383241   \n",
       "22      Closed with explanation      2773990   \n",
       "30      Closed with explanation      2412744   \n",
       "41      Closed with explanation      2737995   \n",
       "47  Closed with monetary relief      2420310   \n",
       "\n",
       "                                           narratives  \\\n",
       "2   I have not been contacted about this negative ...   \n",
       "22  I was pulling my credit to looking into buying...   \n",
       "30  I bought a money order from XXXX XXXX to pay a...   \n",
       "41  Since XXXX XXXX, I was working with a loan con...   \n",
       "47  My business debit cards were stolen from my ma...   \n",
       "\n",
       "   consumer_consent_provided consumer_disputed            date_received  \\\n",
       "2           Consent provided                No  2017-03-13T00:00:00.000   \n",
       "22          Consent provided               N/A  2018-01-06T00:00:00.000   \n",
       "30          Consent provided                No  2017-03-31T00:00:00.000   \n",
       "41          Consent provided               N/A  2017-11-26T00:00:00.000   \n",
       "47          Consent provided                No  2017-04-05T00:00:00.000   \n",
       "\n",
       "       date_sent_to_company  \\\n",
       "2   2017-03-15T00:00:00.000   \n",
       "22  2018-01-06T00:00:00.000   \n",
       "30  2017-04-03T00:00:00.000   \n",
       "41  2017-11-26T00:00:00.000   \n",
       "47  2017-04-05T00:00:00.000   \n",
       "\n",
       "                                                issue  \\\n",
       "2               Cont'd attempts collect debt not owed   \n",
       "22               Incorrect information on your report   \n",
       "30                         Lost or stolen money order   \n",
       "41  Applying for a mortgage or refinancing an exis...   \n",
       "47              Identity theft / Fraud / Embezzlement   \n",
       "\n",
       "                                              product state  \\\n",
       "2                                     Debt collection    AR   \n",
       "22  Credit reporting, credit repair services, or o...    FL   \n",
       "30                            Other financial service    NY   \n",
       "41                                           Mortgage    MD   \n",
       "47                                        Credit card    CA   \n",
       "\n",
       "                              sub_issue                 sub_product  \\\n",
       "2                         Debt was paid               I do not know   \n",
       "22  Information belongs to someone else            Credit reporting   \n",
       "30                                  NaN                 Money order   \n",
       "41                                  NaN  Conventional home mortgage   \n",
       "47                                  NaN                         NaN   \n",
       "\n",
       "   submitted_via tags timely zip_code  \n",
       "2            Web  NaN     No    729XX  \n",
       "22           Web  NaN    Yes    347XX  \n",
       "30           Web  NaN    Yes    100XX  \n",
       "41           Web  NaN    Yes    208XX  \n",
       "47           Web  NaN    Yes    958XX  "
      ]
     },
     "execution_count": 117,
     "metadata": {},
     "output_type": "execute_result"
    }
   ],
   "source": [
    "df2.head()"
   ]
  }
 ],
 "metadata": {
  "kernelspec": {
   "display_name": "Python 3",
   "language": "python",
   "name": "python3"
  },
  "language_info": {
   "codemirror_mode": {
    "name": "ipython",
    "version": 3
   },
   "file_extension": ".py",
   "mimetype": "text/x-python",
   "name": "python",
   "nbconvert_exporter": "python",
   "pygments_lexer": "ipython3",
   "version": "3.6.4"
  }
 },
 "nbformat": 4,
 "nbformat_minor": 2
}
