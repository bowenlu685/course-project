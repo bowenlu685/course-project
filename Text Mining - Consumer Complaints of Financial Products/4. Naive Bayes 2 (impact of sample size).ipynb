{
 "cells": [
  {
   "cell_type": "markdown",
   "metadata": {},
   "source": [
    "### Analyze the impact of sample size on NB classifier performance"
   ]
  },
  {
   "cell_type": "code",
   "execution_count": 7,
   "metadata": {
    "collapsed": true
   },
   "outputs": [],
   "source": [
    "#define the function to calculate the accuracy for a given dataset\n",
    "\n",
    "import nltk, re, string\n",
    "import numpy as np\n",
    "import pandas as pd\n",
    "from nltk.corpus import stopwords\n",
    "from sklearn.feature_extraction.text import TfidfVectorizer\n",
    "from sklearn.naive_bayes import MultinomialNB\n",
    "from sklearn.model_selection import train_test_split\n",
    "from sklearn.metrics import precision_recall_fscore_support\n",
    "from sklearn.metrics import accuracy_score\n",
    "\n",
    "def NB_accuracy(inputfile):\n",
    "    \n",
    "    df = pd.read_csv(inputfile)\n",
    "    texts = df.narratives.tolist()\n",
    "    target = df.label.tolist()\n",
    "    stop_words = stopwords.words('english')\n",
    "    stop_words += [\"xx\", \"xxxx\"]\n",
    "    \n",
    "    #tokenize\n",
    "    newtexts = []\n",
    "    for text in texts:\n",
    "        tokens = nltk.word_tokenize(text.lower())\n",
    "        text_tokens = [token.strip() for token in tokens \\\n",
    "                   if token.strip() not in stop_words \\\n",
    "                   and token.strip() not in string.punctuation]\n",
    "        newtext = \" \".join(text_tokens)\n",
    "        newtexts.append(newtext)\n",
    "    \n",
    "    #tf-idf\n",
    "    tfidf_vect = TfidfVectorizer(min_df=10) \n",
    "    tf_idf = tfidf_vect.fit_transform(newtexts)\n",
    "    \n",
    "    #Naive Bayes classification\n",
    "    X_train, X_test, y_train, y_test = train_test_split(\\\n",
    "                tf_idf, target, test_size=0.3, random_state=0, stratify=target)\n",
    "    clf = MultinomialNB(alpha=0.1).fit(X_train, y_train)\n",
    "    predicted = clf.predict(X_test)\n",
    "    labels = sorted(list(set(target)))\n",
    "\n",
    "    accuracy = accuracy_score(y_test, predicted)\n",
    "    \n",
    "    return accuracy\n",
    "\n"
   ]
  },
  {
   "cell_type": "code",
   "execution_count": 8,
   "metadata": {},
   "outputs": [
    {
     "data": {
      "text/plain": [
       "[0.44592790387182912,\n",
       " 0.49884450313634865,\n",
       " 0.50748420002217542,\n",
       " 0.51412853213303322,\n",
       " 0.51293850873682811,\n",
       " 0.52089585417361339,\n",
       " 0.52457845098599598,\n",
       " 0.5274848926859762]"
      ]
     },
     "execution_count": 8,
     "metadata": {},
     "output_type": "execute_result"
    }
   ],
   "source": [
    "# calculate the accuracy of the Naive Bayes classification for each dataset of specific sample size\n",
    "\n",
    "accuracy = []\n",
    "\n",
    "accuracy.append(NB_accuracy(\"sample_10000.csv\"))\n",
    "accuracy.append(NB_accuracy(\"sample_20000.csv\"))\n",
    "accuracy.append(NB_accuracy(\"sample_30000.csv\"))\n",
    "accuracy.append(NB_accuracy(\"sample_40000.csv\"))\n",
    "accuracy.append(NB_accuracy(\"sample_50000.csv\"))\n",
    "accuracy.append(NB_accuracy(\"sample_60000.csv\"))\n",
    "accuracy.append(NB_accuracy(\"sample_70000.csv\"))\n",
    "accuracy.append(NB_accuracy(\"sample_80000.csv\"))\n",
    "\n",
    "accuracy"
   ]
  },
  {
   "cell_type": "code",
   "execution_count": 9,
   "metadata": {
    "scrolled": true
   },
   "outputs": [
    {
     "data": {
      "image/png": "[encoded data removed]",
      "text/plain": [
       "<matplotlib.figure.Figure at 0xca852b0>"
      ]
     },
     "metadata": {},
     "output_type": "display_data"
    }
   ],
   "source": [
    "#draw a line chart show the relationship between sample size and accuracy\n",
    "import matplotlib.pyplot as plt\n",
    "\n",
    "df1 = pd.DataFrame({'samplesize': range(10000,90000,10000), 'accuracy': accuracy})\n",
    "plt.plot(df1['samplesize'],df1['accuracy'], color='red', linewidth=1)\n",
    "plt.xlabel(\"sample size\")\n",
    "plt.ylabel(\"accuracy\")\n",
    "plt.show()"
   ]
  },
  {
   "cell_type": "code",
   "execution_count": null,
   "metadata": {
    "collapsed": true
   },
   "outputs": [],
   "source": []
  }
 ],
 "metadata": {
  "kernelspec": {
   "display_name": "Python 3",
   "language": "python",
   "name": "python3"
  },
  "language_info": {
   "codemirror_mode": {
    "name": "ipython",
    "version": 3
   },
   "file_extension": ".py",
   "mimetype": "text/x-python",
   "name": "python",
   "nbconvert_exporter": "python",
   "pygments_lexer": "ipython3",
   "version": "3.6.1"
  }
 },
 "nbformat": 4,
 "nbformat_minor": 2
}
