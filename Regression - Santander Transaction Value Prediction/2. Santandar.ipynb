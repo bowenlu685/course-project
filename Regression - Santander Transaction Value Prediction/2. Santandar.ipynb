{
 "cells": [
  {
   "cell_type": "code",
   "execution_count": 1,
   "metadata": {},
   "outputs": [],
   "source": [
    "import pandas as pd\n",
    "import numpy as np\n",
    "import matplotlib.pyplot as plt\n",
    "import seaborn as sns\n",
    "from sklearn.model_selection import train_test_split\n",
    "from sklearn.ensemble import RandomForestRegressor\n",
    "from sklearn.random_projection import SparseRandomProjection\n",
    "from sklearn.model_selection import KFold, cross_val_score, train_test_split\n",
    "from sklearn.base import BaseEstimator, TransformerMixin, RegressorMixin, clone\n",
    "from sklearn.metrics import mean_squared_error\n",
    "import gc\n",
    "import xgboost as xgb\n",
    "import lightgbm as lgb\n",
    "import catboost as cat\n",
    "from sklearn.decomposition import PCA\n",
    "from sklearn.preprocessing import MinMaxScaler\n",
    "from sklearn.linear_model import LinearRegression"
   ]
  },
  {
   "cell_type": "code",
   "execution_count": 2,
   "metadata": {},
   "outputs": [],
   "source": [
    "train = pd.read_csv(\"train.csv\")\n",
    "test = pd.read_csv(\"test.csv\")"
   ]
  },
  {
   "cell_type": "code",
   "execution_count": 3,
   "metadata": {},
   "outputs": [
    {
     "data": {
      "text/plain": [
       "(4459, 4993)"
      ]
     },
     "execution_count": 3,
     "metadata": {},
     "output_type": "execute_result"
    }
   ],
   "source": [
    "train.shape"
   ]
  },
  {
   "cell_type": "code",
   "execution_count": 4,
   "metadata": {},
   "outputs": [],
   "source": [
    "# test_ID = test['ID']\n",
    "label = train['target']"
   ]
  },
  {
   "cell_type": "code",
   "execution_count": 5,
   "metadata": {},
   "outputs": [],
   "source": [
    "label = np.log1p(label)"
   ]
  },
  {
   "cell_type": "code",
   "execution_count": 6,
   "metadata": {},
   "outputs": [
    {
     "data": {
      "text/plain": [
       "(4459,)"
      ]
     },
     "execution_count": 6,
     "metadata": {},
     "output_type": "execute_result"
    }
   ],
   "source": [
    "label.shape"
   ]
  },
  {
   "cell_type": "code",
   "execution_count": 7,
   "metadata": {},
   "outputs": [],
   "source": [
    "train.drop(\"ID\",axis=1,inplace=True)\n",
    "train.drop(\"target\",axis=1,inplace=True)"
   ]
  },
  {
   "cell_type": "code",
   "execution_count": 8,
   "metadata": {},
   "outputs": [],
   "source": [
    "cols_with_onlyone_val = train.columns[train.nunique() == 1]"
   ]
  },
  {
   "cell_type": "code",
   "execution_count": 9,
   "metadata": {},
   "outputs": [],
   "source": [
    "train.drop(cols_with_onlyone_val.values,axis=1,inplace=True)\n",
    "test.drop(cols_with_onlyone_val.values,axis=1,inplace=True)"
   ]
  },
  {
   "cell_type": "code",
   "execution_count": 11,
   "metadata": {},
   "outputs": [],
   "source": [
    "num_of_decimals = 32"
   ]
  },
  {
   "cell_type": "code",
   "execution_count": 12,
   "metadata": {},
   "outputs": [],
   "source": [
    "train = train.round(num_of_decimals)\n",
    "test = test.round(num_of_decimals)"
   ]
  },
  {
   "cell_type": "code",
   "execution_count": 13,
   "metadata": {},
   "outputs": [
    {
     "data": {
      "text/plain": [
       "(4459,)"
      ]
     },
     "execution_count": 13,
     "metadata": {},
     "output_type": "execute_result"
    }
   ],
   "source": [
    "label.shape"
   ]
  },
  {
   "cell_type": "code",
   "execution_count": 14,
   "metadata": {},
   "outputs": [],
   "source": [
    "# cols_to_Remove = []\n",
    "# columns = train.columns\n",
    "# for i in range(len(columns)-1):\n",
    "#     v = train[columns[i]].values\n",
    "#     for j in range(i+1,len(columns)):\n",
    "#         if np.array_equal(v,train[columns[j]].values):\n",
    "#             cols_to_Remove.append(columns[j])"
   ]
  },
  {
   "cell_type": "code",
   "execution_count": 15,
   "metadata": {},
   "outputs": [],
   "source": [
    "# train.drop(cols_to_Remove,axis=1,inplace=True)\n",
    "# test.drop(cols_to_Remove,axis=1,inplace=True)"
   ]
  },
  {
   "cell_type": "code",
   "execution_count": 16,
   "metadata": {},
   "outputs": [],
   "source": [
    "train = train.loc[:,~train.columns.duplicated()]\n",
    "test = test.loc[:,~test.columns.duplicated()]"
   ]
  },
  {
   "cell_type": "code",
   "execution_count": 18,
   "metadata": {},
   "outputs": [
    {
     "data": {
      "text/plain": [
       "(4459, 4735)"
      ]
     },
     "execution_count": 18,
     "metadata": {},
     "output_type": "execute_result"
    }
   ],
   "source": [
    "train.shape"
   ]
  },
  {
   "cell_type": "code",
   "execution_count": 19,
   "metadata": {},
   "outputs": [],
   "source": [
    "def rmsle(y,pred):\n",
    "    return np.sqrt(np.mean(np.power(y-pred,2)))\n"
   ]
  },
  {
   "cell_type": "code",
   "execution_count": 20,
   "metadata": {},
   "outputs": [],
   "source": [
    "X_train,X_test,y_train,y_test = train_test_split(train,label.values,test_size=0.2,random_state=1)"
   ]
  },
  {
   "cell_type": "code",
   "execution_count": 21,
   "metadata": {},
   "outputs": [
    {
     "data": {
      "text/plain": [
       "RandomForestRegressor(bootstrap=True, criterion='mse', max_depth=None,\n",
       "           max_features='auto', max_leaf_nodes=None,\n",
       "           min_impurity_decrease=0.0, min_impurity_split=None,\n",
       "           min_samples_leaf=1, min_samples_split=2,\n",
       "           min_weight_fraction_leaf=0.0, n_estimators=10, n_jobs=-1,\n",
       "           oob_score=False, random_state=1, verbose=0, warm_start=False)"
      ]
     },
     "execution_count": 21,
     "metadata": {},
     "output_type": "execute_result"
    }
   ],
   "source": [
    "model = RandomForestRegressor(n_jobs=-1,random_state=1)\n",
    "model.fit(X_train,y_train)"
   ]
  },
  {
   "cell_type": "code",
   "execution_count": 22,
   "metadata": {},
   "outputs": [
    {
     "data": {
      "text/plain": [
       "1.4834496478627184"
      ]
     },
     "execution_count": 22,
     "metadata": {},
     "output_type": "execute_result"
    }
   ],
   "source": [
    "rmsle(y_test,model.predict(X_test))"
   ]
  },
  {
   "cell_type": "code",
   "execution_count": 23,
   "metadata": {},
   "outputs": [],
   "source": [
    "important_cols = pd.DataFrame({\"Importance\":model.feature_importances_,\"Feature\":train.columns}).sort_values(by=[\"Importance\"],ascending=False)[:1000]['Feature'].values\n"
   ]
  },
  {
   "cell_type": "code",
   "execution_count": 26,
   "metadata": {},
   "outputs": [],
   "source": [
    "train = train[important_cols]\n",
    "test = test[important_cols]"
   ]
  },
  {
   "cell_type": "code",
   "execution_count": 27,
   "metadata": {},
   "outputs": [],
   "source": [
    "ntrain = len(train)\n",
    "ntest = len(test)\n",
    "tmp = pd.concat([train,test])\n",
    "train_tmp = train[train!=0]\n",
    "test_tmp = test[test!=0]\n"
   ]
  },
  {
   "cell_type": "code",
   "execution_count": 28,
   "metadata": {},
   "outputs": [
    {
     "name": "stderr",
     "output_type": "stream",
     "text": [
      "/anaconda3/lib/python3.6/site-packages/pandas/core/nanops.py:564: RuntimeWarning: divide by zero encountered in true_divide\n",
      "  mean = values.sum(axis, dtype=np.float64) / count\n",
      "/anaconda3/lib/python3.6/site-packages/pandas/core/nanops.py:622: RuntimeWarning: divide by zero encountered in true_divide\n",
      "  mean = values.sum(axis, dtype=np.float64) / count\n"
     ]
    }
   ],
   "source": [
    "train['count_notzero'] = (train != 0).sum(axis=1)\n",
    "test['count_notzero'] = (test != 0).sum(axis=1)\n",
    "train['sum'] = train.sum(axis=1)\n",
    "test['sum'] = test.sum(axis=1)\n",
    "train['var'] = train_tmp.var(axis=1)\n",
    "test['var'] = test_tmp.var(axis=1)\n",
    "train[\"median\"] = train_tmp.median(axis=1)\n",
    "test[\"median\"] = test_tmp.median(axis=1)\n",
    "train[\"mean\"] = train_tmp.mean(axis=1)\n",
    "test[\"mean\"] = test_tmp.mean(axis=1)\n",
    "train[\"std\"] = train_tmp.std(axis=1)\n",
    "test[\"std\"] = test_tmp.std(axis=1)\n",
    "train[\"max\"] = train_tmp.max(axis=1)\n",
    "test[\"max\"] = test_tmp.max(axis=1)\n",
    "train[\"min\"] = train_tmp.min(axis=1)\n",
    "test[\"min\"] = test_tmp.min(axis=1)\n",
    "train[\"skew\"] = train_tmp.skew(axis=1)\n",
    "test[\"skew\"] = test_tmp.skew(axis=1)\n",
    "train[\"kurtosis\"] = train_tmp.kurtosis(axis=1)\n",
    "test[\"kurtosis\"] = test_tmp.kurtosis(axis=1)"
   ]
  },
  {
   "cell_type": "code",
   "execution_count": 29,
   "metadata": {},
   "outputs": [],
   "source": [
    "del(train_tmp)\n",
    "del(test_tmp)"
   ]
  },
  {
   "cell_type": "code",
   "execution_count": 30,
   "metadata": {},
   "outputs": [
    {
     "data": {
      "text/plain": [
       "133"
      ]
     },
     "execution_count": 30,
     "metadata": {},
     "output_type": "execute_result"
    }
   ],
   "source": [
    "gc.collect()"
   ]
  },
  {
   "cell_type": "code",
   "execution_count": 31,
   "metadata": {},
   "outputs": [],
   "source": [
    "test.to_csv(\"test_featured.csv\",index=False)"
   ]
  },
  {
   "cell_type": "code",
   "execution_count": 32,
   "metadata": {},
   "outputs": [
    {
     "data": {
      "text/plain": [
       "0"
      ]
     },
     "execution_count": 32,
     "metadata": {},
     "output_type": "execute_result"
    }
   ],
   "source": [
    "del test\n",
    "gc.collect()"
   ]
  },
  {
   "cell_type": "code",
   "execution_count": 33,
   "metadata": {},
   "outputs": [],
   "source": [
    "def rmsle_cv(model,traindata):\n",
    "    kf = KFold(n_splits=5,random_state=1).get_n_splits(train.values)\n",
    "    rmse = np.sqrt(-cross_val_score(model,traindata,label,scoring=\"neg_mean_squared_error\",cv=kf))\n",
    "    return rmse"
   ]
  },
  {
   "cell_type": "code",
   "execution_count": 34,
   "metadata": {},
   "outputs": [],
   "source": [
    "class AveragingModel(BaseEstimator,RegressorMixin,TransformerMixin):\n",
    "    def __init__(self,models):\n",
    "        self.models = models\n",
    "        \n",
    "    def fit(self,X,y):\n",
    "        self.models_ = [clone(x) for x in self.models]\n",
    "        for model in self.models_:\n",
    "            model.fit(X,y)\n",
    "        return self\n",
    "    \n",
    "    def predict(self,X):\n",
    "        predictions = np.column_stack([model.predict(X) for model in self.models_])\n",
    "        return np.mean(predictions,axis=1)\n",
    "    "
   ]
  },
  {
   "cell_type": "code",
   "execution_count": 35,
   "metadata": {},
   "outputs": [],
   "source": [
    "model_xgb = xgb.XGBRegressor(colsample_bytree=0.055, colsample_bylevel =0.5, \n",
    "                             gamma=1.5, learning_rate=0.02, max_depth=32, \n",
    "                             objective='reg:linear',booster='gbtree',\n",
    "                             min_child_weight=57, n_estimators=1000, reg_alpha=0, \n",
    "                             reg_lambda = 0,eval_metric = 'rmse', subsample=0.7, \n",
    "                             silent=1, n_jobs = -1, early_stopping_rounds = 14,\n",
    "                             random_state =0, nthread = -1)\n",
    "\n",
    "model_lightgbm = lgb.LGBMRegressor(objective='regression',num_leaves=144,\n",
    "                              learning_rate=0.005, n_estimators=720, max_depth=13,\n",
    "                              metric='rmse',is_training_metric=True,\n",
    "                              max_bin = 55, bagging_fraction = 0.8,verbose=-1,\n",
    "                              bagging_freq = 5, feature_fraction = 0.9)\n",
    "\n",
    "model_cat = cat.CatBoostRegressor(iterations=500,\n",
    "                             learning_rate=0.05,\n",
    "                             depth=10,\n",
    "                             eval_metric='RMSE',\n",
    "                             random_seed = 0,\n",
    "                             bagging_temperature = 0.2,\n",
    "                             od_type='Iter',\n",
    "                             metric_period = 50,\n",
    "                             od_wait=20)"
   ]
  },
  {
   "cell_type": "code",
   "execution_count": 37,
   "metadata": {},
   "outputs": [],
   "source": [
    "train.fillna(value=0,inplace=True)"
   ]
  },
  {
   "cell_type": "code",
   "execution_count": 38,
   "metadata": {},
   "outputs": [],
   "source": [
    "scaler = MinMaxScaler(feature_range=[0,1])\n",
    "train_rescaled = scaler.fit_transform(train)"
   ]
  },
  {
   "cell_type": "code",
   "execution_count": 39,
   "metadata": {},
   "outputs": [
    {
     "data": {
      "image/png": "[encoded data removed]",
      "text/plain": [
       "<Figure size 432x288 with 1 Axes>"
      ]
     },
     "metadata": {},
     "output_type": "display_data"
    }
   ],
   "source": [
    "pca = PCA().fit(train_rescaled)\n",
    "plt.figure()\n",
    "plt.plot(np.cumsum(pca.explained_variance_ratio_))\n",
    "plt.xlabel(\"Number of Compenents\")\n",
    "plt.ylabel(\"Variance (%)\")\n",
    "plt.title(\"Pulsar Dataset Explained Variance\")\n",
    "plt.show()\n",
    "## 600 components seem to be resonable "
   ]
  },
  {
   "cell_type": "markdown",
   "metadata": {},
   "source": [
    "## Linear Regression"
   ]
  },
  {
   "cell_type": "code",
   "execution_count": 40,
   "metadata": {},
   "outputs": [],
   "source": [
    "pca = PCA(n_components=600)\n",
    "newTrain = pca.fit_transform(train_rescaled)"
   ]
  },
  {
   "cell_type": "code",
   "execution_count": 42,
   "metadata": {},
   "outputs": [
    {
     "data": {
      "text/plain": [
       "1.8538090218333658"
      ]
     },
     "execution_count": 42,
     "metadata": {},
     "output_type": "execute_result"
    }
   ],
   "source": [
    "regr = LinearRegression()\n",
    "np.mean(rmsle_cv(regr,newTrain))"
   ]
  },
  {
   "cell_type": "code",
   "execution_count": 49,
   "metadata": {},
   "outputs": [
    {
     "data": {
      "text/plain": [
       "1.6260309623921512"
      ]
     },
     "execution_count": 49,
     "metadata": {},
     "output_type": "execute_result"
    }
   ],
   "source": [
    "np.mean(rmsle_cv(regr,newTrain200))"
   ]
  },
  {
   "cell_type": "code",
   "execution_count": 50,
   "metadata": {},
   "outputs": [
    {
     "data": {
      "text/plain": [
       "1.757042561790917"
      ]
     },
     "execution_count": 50,
     "metadata": {},
     "output_type": "execute_result"
    }
   ],
   "source": [
    "np.mean(rmsle_cv(regr,newTrain400))"
   ]
  },
  {
   "cell_type": "code",
   "execution_count": 53,
   "metadata": {},
   "outputs": [
    {
     "data": {
      "text/plain": [
       "2.031468777260429"
      ]
     },
     "execution_count": 53,
     "metadata": {},
     "output_type": "execute_result"
    }
   ],
   "source": [
    "np.mean(rmsle_cv(regr,newTrain800))"
   ]
  },
  {
   "cell_type": "markdown",
   "metadata": {},
   "source": [
    "## Boosting"
   ]
  },
  {
   "cell_type": "markdown",
   "metadata": {},
   "source": [
    "### 200Variables after pca"
   ]
  },
  {
   "cell_type": "code",
   "execution_count": 43,
   "metadata": {},
   "outputs": [],
   "source": [
    "pca = PCA(n_components=200)\n",
    "newTrain200 = pca.fit_transform(train_rescaled)"
   ]
  },
  {
   "cell_type": "code",
   "execution_count": 44,
   "metadata": {
    "scrolled": true
   },
   "outputs": [
    {
     "name": "stdout",
     "output_type": "stream",
     "text": [
      "Xgboost score: 1.4486 (0.0514)\n",
      "\n",
      "LGBM score: 1.4217 (0.0473)\n",
      "\n",
      "0:\tlearn: 13.8947832\ttotal: 705ms\tremaining: 5m 51s\n",
      "50:\tlearn: 2.1836098\ttotal: 32.5s\tremaining: 4m 46s\n",
      "100:\tlearn: 1.5377480\ttotal: 58.2s\tremaining: 3m 49s\n",
      "150:\tlearn: 1.4767859\ttotal: 1m 15s\tremaining: 2m 55s\n",
      "200:\tlearn: 1.4750314\ttotal: 1m 17s\tremaining: 1m 55s\n",
      "250:\tlearn: 1.4750285\ttotal: 1m 18s\tremaining: 1m 17s\n",
      "300:\tlearn: 1.4750284\ttotal: 1m 19s\tremaining: 52.4s\n",
      "350:\tlearn: 1.4750284\ttotal: 1m 20s\tremaining: 34s\n",
      "400:\tlearn: 1.4702513\ttotal: 1m 21s\tremaining: 20s\n",
      "450:\tlearn: 1.4642473\ttotal: 1m 22s\tremaining: 8.97s\n",
      "499:\tlearn: 1.4615073\ttotal: 1m 23s\tremaining: 0us\n",
      "0:\tlearn: 13.9306636\ttotal: 878ms\tremaining: 7m 18s\n",
      "50:\tlearn: 2.1768339\ttotal: 34.3s\tremaining: 5m 2s\n",
      "100:\tlearn: 1.5109765\ttotal: 1m 1s\tremaining: 4m 2s\n",
      "150:\tlearn: 1.4520939\ttotal: 1m 19s\tremaining: 3m 4s\n",
      "200:\tlearn: 1.4497778\ttotal: 1m 21s\tremaining: 2m\n",
      "250:\tlearn: 1.4497756\ttotal: 1m 21s\tremaining: 1m 21s\n",
      "300:\tlearn: 1.4497756\ttotal: 1m 22s\tremaining: 54.5s\n",
      "350:\tlearn: 1.4497756\ttotal: 1m 23s\tremaining: 35.3s\n",
      "400:\tlearn: 1.4420872\ttotal: 1m 25s\tremaining: 21.1s\n",
      "450:\tlearn: 1.4388779\ttotal: 1m 27s\tremaining: 9.55s\n",
      "499:\tlearn: 1.4385638\ttotal: 1m 28s\tremaining: 0us\n",
      "0:\tlearn: 13.9157571\ttotal: 639ms\tremaining: 5m 18s\n",
      "50:\tlearn: 2.1850841\ttotal: 32.6s\tremaining: 4m 47s\n",
      "100:\tlearn: 1.5284481\ttotal: 1m 1s\tremaining: 4m 4s\n",
      "150:\tlearn: 1.4683216\ttotal: 1m 25s\tremaining: 3m 17s\n",
      "200:\tlearn: 1.4645172\ttotal: 1m 28s\tremaining: 2m 11s\n",
      "250:\tlearn: 1.4645053\ttotal: 1m 29s\tremaining: 1m 28s\n",
      "300:\tlearn: 1.4565849\ttotal: 1m 34s\tremaining: 1m 2s\n",
      "350:\tlearn: 1.4557927\ttotal: 1m 35s\tremaining: 40.6s\n",
      "400:\tlearn: 1.4557643\ttotal: 1m 36s\tremaining: 23.9s\n",
      "450:\tlearn: 1.4543790\ttotal: 1m 38s\tremaining: 10.7s\n",
      "499:\tlearn: 1.4481044\ttotal: 1m 44s\tremaining: 0us\n",
      "0:\tlearn: 13.9259569\ttotal: 1.88s\tremaining: 15m 39s\n",
      "50:\tlearn: 2.1869085\ttotal: 44.8s\tremaining: 6m 34s\n",
      "100:\tlearn: 1.5354760\ttotal: 1m 23s\tremaining: 5m 30s\n",
      "150:\tlearn: 1.4778064\ttotal: 1m 42s\tremaining: 3m 57s\n",
      "200:\tlearn: 1.4740740\ttotal: 1m 45s\tremaining: 2m 36s\n",
      "250:\tlearn: 1.4740718\ttotal: 1m 45s\tremaining: 1m 44s\n",
      "300:\tlearn: 1.4740718\ttotal: 1m 46s\tremaining: 1m 10s\n",
      "350:\tlearn: 1.4740718\ttotal: 1m 46s\tremaining: 45.4s\n",
      "400:\tlearn: 1.4740718\ttotal: 1m 48s\tremaining: 26.8s\n",
      "450:\tlearn: 1.4688342\ttotal: 1m 51s\tremaining: 12.1s\n",
      "499:\tlearn: 1.4672029\ttotal: 1m 53s\tremaining: 0us\n",
      "0:\tlearn: 13.9476537\ttotal: 980ms\tremaining: 8m 9s\n",
      "50:\tlearn: 2.1590038\ttotal: 38.5s\tremaining: 5m 38s\n",
      "100:\tlearn: 1.5047103\ttotal: 1m 15s\tremaining: 4m 59s\n",
      "150:\tlearn: 1.4465082\ttotal: 1m 40s\tremaining: 3m 52s\n",
      "200:\tlearn: 1.4430187\ttotal: 1m 41s\tremaining: 2m 31s\n",
      "250:\tlearn: 1.4430174\ttotal: 1m 42s\tremaining: 1m 41s\n",
      "300:\tlearn: 1.4430173\ttotal: 1m 43s\tremaining: 1m 8s\n",
      "350:\tlearn: 1.4374111\ttotal: 1m 46s\tremaining: 45.3s\n",
      "400:\tlearn: 1.4336609\ttotal: 1m 49s\tremaining: 27.2s\n",
      "450:\tlearn: 1.4290705\ttotal: 1m 51s\tremaining: 12.2s\n",
      "499:\tlearn: 1.4265327\ttotal: 1m 53s\tremaining: 0us\n",
      "Catboost score: 1.7650 (0.0399)\n",
      "\n"
     ]
    }
   ],
   "source": [
    "score = rmsle_cv(model_xgb,newTrain200)\n",
    "print(\"Xgboost score: {:.4f} ({:.4f})\\n\".format(score.mean(), score.std()))\n",
    "score = rmsle_cv(model_lightgbm,newTrain200)\n",
    "print(\"LGBM score: {:.4f} ({:.4f})\\n\".format(score.mean(), score.std()))\n",
    "score = rmsle_cv(model_cat,newTrain200)\n",
    "print(\"Catboost score: {:.4f} ({:.4f})\\n\".format(score.mean(),score.std()))\n"
   ]
  },
  {
   "cell_type": "code",
   "execution_count": 45,
   "metadata": {},
   "outputs": [],
   "source": [
    "pca = PCA(n_components=400)\n",
    "newTrain400 = pca.fit_transform(train_rescaled)"
   ]
  },
  {
   "cell_type": "code",
   "execution_count": 46,
   "metadata": {
    "scrolled": true
   },
   "outputs": [
    {
     "name": "stdout",
     "output_type": "stream",
     "text": [
      "Xgboost score: 1.4503 (0.0550)\n",
      "\n",
      "LGBM score: 1.4225 (0.0469)\n",
      "\n",
      "0:\tlearn: 13.9018976\ttotal: 1.49s\tremaining: 12m 22s\n",
      "50:\tlearn: 2.2021544\ttotal: 1m 8s\tremaining: 10m\n",
      "100:\tlearn: 1.5701159\ttotal: 2m 12s\tremaining: 8m 42s\n",
      "150:\tlearn: 1.5070643\ttotal: 3m 9s\tremaining: 7m 19s\n",
      "200:\tlearn: 1.5040190\ttotal: 3m 12s\tremaining: 4m 47s\n",
      "250:\tlearn: 1.4913280\ttotal: 3m 16s\tremaining: 3m 14s\n",
      "300:\tlearn: 1.4821848\ttotal: 3m 19s\tremaining: 2m 11s\n",
      "350:\tlearn: 1.4763604\ttotal: 3m 23s\tremaining: 1m 26s\n",
      "400:\tlearn: 1.4673984\ttotal: 3m 30s\tremaining: 51.9s\n",
      "450:\tlearn: 1.4622724\ttotal: 3m 34s\tremaining: 23.3s\n",
      "499:\tlearn: 1.4570209\ttotal: 3m 40s\tremaining: 0us\n",
      "0:\tlearn: 13.9377011\ttotal: 1.38s\tremaining: 11m 30s\n",
      "50:\tlearn: 2.1977237\ttotal: 1m 3s\tremaining: 9m 18s\n",
      "100:\tlearn: 1.5523871\ttotal: 2m\tremaining: 7m 57s\n",
      "150:\tlearn: 1.4873745\ttotal: 2m 58s\tremaining: 6m 51s\n",
      "200:\tlearn: 1.4842612\ttotal: 3m\tremaining: 4m 29s\n",
      "250:\tlearn: 1.4842542\ttotal: 3m 1s\tremaining: 3m\n",
      "300:\tlearn: 1.4842542\ttotal: 3m 2s\tremaining: 2m\n",
      "350:\tlearn: 1.4842542\ttotal: 3m 3s\tremaining: 1m 18s\n",
      "400:\tlearn: 1.4842542\ttotal: 3m 4s\tremaining: 45.6s\n",
      "450:\tlearn: 1.4600453\ttotal: 3m 10s\tremaining: 20.7s\n",
      "499:\tlearn: 1.4476539\ttotal: 3m 19s\tremaining: 0us\n",
      "0:\tlearn: 13.9203192\ttotal: 1.64s\tremaining: 13m 40s\n",
      "50:\tlearn: 2.1813251\ttotal: 1m 6s\tremaining: 9m 46s\n",
      "100:\tlearn: 1.5617777\ttotal: 2m 20s\tremaining: 9m 15s\n",
      "150:\tlearn: 1.4998522\ttotal: 3m 15s\tremaining: 7m 32s\n",
      "200:\tlearn: 1.4963169\ttotal: 3m 22s\tremaining: 5m\n",
      "250:\tlearn: 1.4898695\ttotal: 3m 24s\tremaining: 3m 22s\n",
      "300:\tlearn: 1.4806718\ttotal: 3m 34s\tremaining: 2m 21s\n",
      "350:\tlearn: 1.4701989\ttotal: 3m 46s\tremaining: 1m 35s\n",
      "400:\tlearn: 1.4579230\ttotal: 3m 56s\tremaining: 58.4s\n",
      "450:\tlearn: 1.4555298\ttotal: 4m 2s\tremaining: 26.3s\n",
      "499:\tlearn: 1.4489457\ttotal: 4m 13s\tremaining: 0us\n",
      "0:\tlearn: 13.9443264\ttotal: 1.55s\tremaining: 12m 52s\n",
      "50:\tlearn: 2.1945851\ttotal: 1m 5s\tremaining: 9m 33s\n",
      "100:\tlearn: 1.5629340\ttotal: 2m 6s\tremaining: 8m 21s\n",
      "150:\tlearn: 1.4982905\ttotal: 2m 57s\tremaining: 6m 50s\n",
      "200:\tlearn: 1.4950993\ttotal: 3m 2s\tremaining: 4m 31s\n",
      "250:\tlearn: 1.4950969\ttotal: 3m 3s\tremaining: 3m 1s\n",
      "300:\tlearn: 1.4950969\ttotal: 3m 4s\tremaining: 2m 1s\n",
      "350:\tlearn: 1.4950969\ttotal: 3m 5s\tremaining: 1m 18s\n",
      "400:\tlearn: 1.4950969\ttotal: 3m 6s\tremaining: 46s\n",
      "450:\tlearn: 1.4790470\ttotal: 3m 17s\tremaining: 21.4s\n",
      "499:\tlearn: 1.4740179\ttotal: 3m 23s\tremaining: 0us\n",
      "0:\tlearn: 13.9568726\ttotal: 2.76s\tremaining: 22m 56s\n",
      "50:\tlearn: 2.1558289\ttotal: 1m 14s\tremaining: 10m 58s\n",
      "100:\tlearn: 1.5227442\ttotal: 2m 24s\tremaining: 9m 29s\n",
      "150:\tlearn: 1.4675735\ttotal: 3m 10s\tremaining: 7m 20s\n",
      "200:\tlearn: 1.4649658\ttotal: 3m 14s\tremaining: 4m 49s\n",
      "250:\tlearn: 1.4649633\ttotal: 3m 15s\tremaining: 3m 13s\n",
      "300:\tlearn: 1.4649633\ttotal: 3m 16s\tremaining: 2m 9s\n",
      "350:\tlearn: 1.4509632\ttotal: 3m 26s\tremaining: 1m 27s\n",
      "400:\tlearn: 1.4403234\ttotal: 3m 40s\tremaining: 54.6s\n",
      "450:\tlearn: 1.4333900\ttotal: 3m 56s\tremaining: 25.7s\n",
      "499:\tlearn: 1.4293460\ttotal: 4m 7s\tremaining: 0us\n",
      "Catboost score: 1.7863 (0.0367)\n",
      "\n"
     ]
    }
   ],
   "source": [
    "score = rmsle_cv(model_xgb,newTrain400)\n",
    "print(\"Xgboost score: {:.4f} ({:.4f})\\n\".format(score.mean(), score.std()))\n",
    "score = rmsle_cv(model_lightgbm,newTrain400)\n",
    "print(\"LGBM score: {:.4f} ({:.4f})\\n\".format(score.mean(), score.std()))\n",
    "score = rmsle_cv(model_cat,newTrain400)\n",
    "print(\"Catboost score: {:.4f} ({:.4f})\\n\".format(score.mean(),score.std()))"
   ]
  },
  {
   "cell_type": "code",
   "execution_count": 47,
   "metadata": {},
   "outputs": [],
   "source": [
    "pca = PCA(n_components=600)\n",
    "newTrain600 = pca.fit_transform(train_rescaled)"
   ]
  },
  {
   "cell_type": "code",
   "execution_count": 48,
   "metadata": {
    "scrolled": true
   },
   "outputs": [
    {
     "name": "stdout",
     "output_type": "stream",
     "text": [
      "Xgboost score: 1.4544 (0.0562)\n",
      "\n",
      "LGBM score: 1.4245 (0.0464)\n",
      "\n",
      "0:\tlearn: 13.9303673\ttotal: 2.14s\tremaining: 17m 49s\n",
      "50:\tlearn: 2.1704761\ttotal: 1m 39s\tremaining: 14m 33s\n",
      "100:\tlearn: 1.5674080\ttotal: 3m 11s\tremaining: 12m 36s\n",
      "150:\tlearn: 1.5154151\ttotal: 4m 29s\tremaining: 10m 22s\n",
      "200:\tlearn: 1.5124096\ttotal: 4m 36s\tremaining: 6m 51s\n",
      "250:\tlearn: 1.4946950\ttotal: 4m 44s\tremaining: 4m 41s\n",
      "300:\tlearn: 1.4776281\ttotal: 4m 51s\tremaining: 3m 13s\n",
      "350:\tlearn: 1.4733333\ttotal: 5m 2s\tremaining: 2m 8s\n",
      "400:\tlearn: 1.4611556\ttotal: 5m 20s\tremaining: 1m 19s\n",
      "450:\tlearn: 1.4529503\ttotal: 5m 31s\tremaining: 36s\n",
      "499:\tlearn: 1.4458828\ttotal: 5m 40s\tremaining: 0us\n",
      "0:\tlearn: 13.9673704\ttotal: 2.26s\tremaining: 18m 46s\n",
      "50:\tlearn: 2.1649353\ttotal: 1m 33s\tremaining: 13m 41s\n",
      "100:\tlearn: 1.5631744\ttotal: 3m 2s\tremaining: 12m 2s\n",
      "150:\tlearn: 1.5051344\ttotal: 4m 33s\tremaining: 10m 32s\n",
      "200:\tlearn: 1.5013718\ttotal: 4m 42s\tremaining: 7m\n",
      "250:\tlearn: 1.5013635\ttotal: 4m 43s\tremaining: 4m 41s\n",
      "300:\tlearn: 1.5013635\ttotal: 4m 45s\tremaining: 3m 8s\n",
      "350:\tlearn: 1.5013635\ttotal: 4m 46s\tremaining: 2m 1s\n",
      "400:\tlearn: 1.5013635\ttotal: 4m 47s\tremaining: 1m 11s\n",
      "450:\tlearn: 1.4783165\ttotal: 5m 1s\tremaining: 32.8s\n",
      "499:\tlearn: 1.4611065\ttotal: 5m 12s\tremaining: 0us\n",
      "0:\tlearn: 13.9504275\ttotal: 2.18s\tremaining: 18m 9s\n",
      "50:\tlearn: 2.1605732\ttotal: 1m 42s\tremaining: 15m 1s\n",
      "100:\tlearn: 1.5690452\ttotal: 3m 10s\tremaining: 12m 32s\n",
      "150:\tlearn: 1.5155545\ttotal: 4m 29s\tremaining: 10m 23s\n",
      "200:\tlearn: 1.5128417\ttotal: 4m 37s\tremaining: 6m 52s\n",
      "250:\tlearn: 1.5128395\ttotal: 4m 38s\tremaining: 4m 36s\n",
      "300:\tlearn: 1.5128395\ttotal: 4m 40s\tremaining: 3m 5s\n",
      "350:\tlearn: 1.5128395\ttotal: 4m 41s\tremaining: 1m 59s\n",
      "400:\tlearn: 1.5128395\ttotal: 4m 42s\tremaining: 1m 9s\n",
      "450:\tlearn: 1.4677329\ttotal: 5m\tremaining: 32.6s\n",
      "499:\tlearn: 1.4656688\ttotal: 5m 5s\tremaining: 0us\n",
      "0:\tlearn: 13.9613089\ttotal: 2.26s\tremaining: 18m 46s\n",
      "50:\tlearn: 2.1741332\ttotal: 1m 36s\tremaining: 14m 12s\n",
      "100:\tlearn: 1.5639115\ttotal: 3m 15s\tremaining: 12m 51s\n",
      "150:\tlearn: 1.5097910\ttotal: 4m 23s\tremaining: 10m 9s\n",
      "200:\tlearn: 1.5068395\ttotal: 4m 29s\tremaining: 6m 40s\n",
      "250:\tlearn: 1.5068382\ttotal: 4m 31s\tremaining: 4m 29s\n",
      "300:\tlearn: 1.5068382\ttotal: 4m 33s\tremaining: 3m\n",
      "350:\tlearn: 1.5068382\ttotal: 4m 34s\tremaining: 1m 56s\n",
      "400:\tlearn: 1.4844160\ttotal: 4m 48s\tremaining: 1m 11s\n",
      "450:\tlearn: 1.4767737\ttotal: 4m 59s\tremaining: 32.5s\n",
      "499:\tlearn: 1.4715531\ttotal: 5m 6s\tremaining: 0us\n",
      "0:\tlearn: 13.9571495\ttotal: 2.16s\tremaining: 17m 56s\n",
      "50:\tlearn: 2.1427401\ttotal: 1m 40s\tremaining: 14m 48s\n",
      "100:\tlearn: 1.5387022\ttotal: 3m 15s\tremaining: 12m 53s\n",
      "150:\tlearn: 1.4785829\ttotal: 4m 38s\tremaining: 10m 42s\n",
      "200:\tlearn: 1.4758988\ttotal: 4m 42s\tremaining: 7m\n",
      "250:\tlearn: 1.4758907\ttotal: 4m 44s\tremaining: 4m 41s\n",
      "300:\tlearn: 1.4758907\ttotal: 4m 45s\tremaining: 3m 8s\n",
      "350:\tlearn: 1.4576125\ttotal: 4m 53s\tremaining: 2m 4s\n",
      "400:\tlearn: 1.4489375\ttotal: 5m 2s\tremaining: 1m 14s\n",
      "450:\tlearn: 1.4403664\ttotal: 5m 17s\tremaining: 34.5s\n",
      "499:\tlearn: 1.4249007\ttotal: 5m 35s\tremaining: 0us\n",
      "Catboost score: 1.7480 (0.0165)\n",
      "\n"
     ]
    }
   ],
   "source": [
    "score = rmsle_cv(model_xgb,newTrain600)\n",
    "print(\"Xgboost score: {:.4f} ({:.4f})\\n\".format(score.mean(), score.std()))\n",
    "score = rmsle_cv(model_lightgbm,newTrain600)\n",
    "print(\"LGBM score: {:.4f} ({:.4f})\\n\".format(score.mean(), score.std()))\n",
    "score = rmsle_cv(model_cat,newTrain600)\n",
    "print(\"Catboost score: {:.4f} ({:.4f})\\n\".format(score.mean(),score.std()))"
   ]
  },
  {
   "cell_type": "code",
   "execution_count": 51,
   "metadata": {},
   "outputs": [],
   "source": [
    "pca = PCA(n_components=800)\n",
    "newTrain800 = pca.fit_transform(train_rescaled)"
   ]
  },
  {
   "cell_type": "code",
   "execution_count": 52,
   "metadata": {
    "scrolled": true
   },
   "outputs": [
    {
     "name": "stdout",
     "output_type": "stream",
     "text": [
      "Xgboost score: 1.4616 (0.0608)\n",
      "\n",
      "LGBM score: 1.4306 (0.0421)\n",
      "\n",
      "0:\tlearn: 13.9093161\ttotal: 3.16s\tremaining: 26m 15s\n",
      "50:\tlearn: 2.1545678\ttotal: 2m 17s\tremaining: 20m 7s\n",
      "100:\tlearn: 1.5631989\ttotal: 4m 21s\tremaining: 17m 13s\n",
      "150:\tlearn: 1.5056786\ttotal: 6m 16s\tremaining: 14m 31s\n",
      "200:\tlearn: 1.5005751\ttotal: 6m 42s\tremaining: 9m 58s\n",
      "250:\tlearn: 1.4820739\ttotal: 6m 58s\tremaining: 6m 55s\n",
      "300:\tlearn: 1.4672024\ttotal: 7m 25s\tremaining: 4m 54s\n",
      "350:\tlearn: 1.4520370\ttotal: 7m 52s\tremaining: 3m 20s\n",
      "400:\tlearn: 1.4386571\ttotal: 8m 9s\tremaining: 2m\n",
      "450:\tlearn: 1.4261076\ttotal: 8m 25s\tremaining: 54.9s\n",
      "499:\tlearn: 1.4179118\ttotal: 8m 34s\tremaining: 0us\n",
      "0:\tlearn: 13.9584928\ttotal: 2.99s\tremaining: 24m 50s\n",
      "50:\tlearn: 2.1514571\ttotal: 2m 18s\tremaining: 20m 23s\n",
      "100:\tlearn: 1.5462903\ttotal: 4m 29s\tremaining: 17m 42s\n",
      "150:\tlearn: 1.4907854\ttotal: 6m 32s\tremaining: 15m 6s\n",
      "200:\tlearn: 1.4876062\ttotal: 6m 44s\tremaining: 10m 1s\n",
      "250:\tlearn: 1.4876050\ttotal: 6m 45s\tremaining: 6m 42s\n",
      "300:\tlearn: 1.4876050\ttotal: 6m 47s\tremaining: 4m 29s\n",
      "350:\tlearn: 1.4876050\ttotal: 6m 49s\tremaining: 2m 53s\n",
      "400:\tlearn: 1.4742580\ttotal: 6m 58s\tremaining: 1m 43s\n",
      "450:\tlearn: 1.4693299\ttotal: 7m 10s\tremaining: 46.8s\n",
      "499:\tlearn: 1.4465191\ttotal: 7m 38s\tremaining: 0us\n",
      "0:\tlearn: 13.9298252\ttotal: 4.72s\tremaining: 39m 13s\n",
      "50:\tlearn: 2.1447681\ttotal: 2m 18s\tremaining: 20m 19s\n",
      "100:\tlearn: 1.5631622\ttotal: 4m 22s\tremaining: 17m 15s\n",
      "150:\tlearn: 1.5114730\ttotal: 6m 16s\tremaining: 14m 31s\n",
      "200:\tlearn: 1.5093860\ttotal: 6m 23s\tremaining: 9m 30s\n",
      "250:\tlearn: 1.5093847\ttotal: 6m 25s\tremaining: 6m 21s\n",
      "300:\tlearn: 1.5093847\ttotal: 6m 26s\tremaining: 4m 15s\n",
      "350:\tlearn: 1.4807670\ttotal: 6m 48s\tremaining: 2m 53s\n",
      "400:\tlearn: 1.4514429\ttotal: 7m 12s\tremaining: 1m 46s\n",
      "450:\tlearn: 1.4414776\ttotal: 7m 31s\tremaining: 49s\n",
      "499:\tlearn: 1.4338703\ttotal: 8m 3s\tremaining: 0us\n",
      "0:\tlearn: 13.9406793\ttotal: 2.9s\tremaining: 24m 6s\n",
      "50:\tlearn: 2.1474264\ttotal: 2m 11s\tremaining: 19m 15s\n",
      "100:\tlearn: 1.5601696\ttotal: 4m 19s\tremaining: 17m 4s\n",
      "150:\tlearn: 1.5014535\ttotal: 6m 15s\tremaining: 14m 27s\n",
      "200:\tlearn: 1.4973302\ttotal: 6m 32s\tremaining: 9m 44s\n",
      "250:\tlearn: 1.4973290\ttotal: 6m 34s\tremaining: 6m 31s\n",
      "300:\tlearn: 1.4973290\ttotal: 6m 36s\tremaining: 4m 22s\n",
      "350:\tlearn: 1.4973290\ttotal: 6m 38s\tremaining: 2m 48s\n",
      "400:\tlearn: 1.4973290\ttotal: 6m 39s\tremaining: 1m 38s\n",
      "450:\tlearn: 1.4553920\ttotal: 7m 6s\tremaining: 46.3s\n",
      "499:\tlearn: 1.4466266\ttotal: 7m 34s\tremaining: 0us\n",
      "0:\tlearn: 13.9685319\ttotal: 3.19s\tremaining: 26m 33s\n",
      "50:\tlearn: 2.1462165\ttotal: 2m 19s\tremaining: 20m 24s\n",
      "100:\tlearn: 1.5293905\ttotal: 4m 19s\tremaining: 17m 5s\n",
      "150:\tlearn: 1.4792522\ttotal: 6m 6s\tremaining: 14m 6s\n",
      "200:\tlearn: 1.4773156\ttotal: 6m 11s\tremaining: 9m 13s\n",
      "250:\tlearn: 1.4570996\ttotal: 6m 23s\tremaining: 6m 20s\n",
      "300:\tlearn: 1.4388502\ttotal: 6m 44s\tremaining: 4m 27s\n",
      "350:\tlearn: 1.4298925\ttotal: 7m 3s\tremaining: 2m 59s\n",
      "400:\tlearn: 1.4223580\ttotal: 7m 20s\tremaining: 1m 48s\n",
      "450:\tlearn: 1.4178159\ttotal: 7m 34s\tremaining: 49.4s\n",
      "499:\tlearn: 1.4123067\ttotal: 7m 50s\tremaining: 0us\n",
      "Catboost score: 1.7325 (0.0481)\n",
      "\n"
     ]
    }
   ],
   "source": [
    "score = rmsle_cv(model_xgb,newTrain800)\n",
    "print(\"Xgboost score: {:.4f} ({:.4f})\\n\".format(score.mean(), score.std()))\n",
    "score = rmsle_cv(model_lightgbm,newTrain800)\n",
    "print(\"LGBM score: {:.4f} ({:.4f})\\n\".format(score.mean(), score.std()))\n",
    "score = rmsle_cv(model_cat,newTrain800)\n",
    "print(\"Catboost score: {:.4f} ({:.4f})\\n\".format(score.mean(),score.std()))"
   ]
  },
  {
   "cell_type": "code",
   "execution_count": 55,
   "metadata": {},
   "outputs": [
    {
     "name": "stdout",
     "output_type": "stream",
     "text": [
      "Xgboost score: 1.3614 (0.0547)\n",
      "\n",
      "LGBM score: 1.3420 (0.0468)\n",
      "\n"
     ]
    }
   ],
   "source": [
    "score = rmsle_cv(model_xgb,train)\n",
    "print(\"Xgboost score: {:.4f} ({:.4f})\\n\".format(score.mean(), score.std()))\n",
    "score = rmsle_cv(model_lightgbm,train)\n",
    "print(\"LGBM score: {:.4f} ({:.4f})\\n\".format(score.mean(), score.std()))"
   ]
  },
  {
   "cell_type": "code",
   "execution_count": null,
   "metadata": {},
   "outputs": [],
   "source": [
    "averaged_model = AveragingModel(models = (model_xgb, model_lightgbm, model_cat))\n",
    "score = rmsle_cv(averaged_model)\n",
    "print(\"averaged score: {:.4f} ({:.4f})\\n\" .format(score.mean(), score.std()))"
   ]
  },
  {
   "cell_type": "code",
   "execution_count": null,
   "metadata": {},
   "outputs": [],
   "source": []
  }
 ],
 "metadata": {
  "kernelspec": {
   "display_name": "Python 3",
   "language": "python",
   "name": "python3"
  },
  "language_info": {
   "codemirror_mode": {
    "name": "ipython",
    "version": 3
   },
   "file_extension": ".py",
   "mimetype": "text/x-python",
   "name": "python",
   "nbconvert_exporter": "python",
   "pygments_lexer": "ipython3",
   "version": "3.7.1"
  }
 },
 "nbformat": 4,
 "nbformat_minor": 2
}
